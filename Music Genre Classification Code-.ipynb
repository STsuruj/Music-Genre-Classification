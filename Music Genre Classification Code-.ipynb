{
  "nbformat": 4,
  "nbformat_minor": 0,
  "metadata": {
    "colab": {
      "provenance": [],
      "gpuType": "T4"
    },
    "kernelspec": {
      "name": "python3",
      "display_name": "Python 3"
    },
    "language_info": {
      "name": "python"
    },
    "accelerator": "GPU"
  },
  "cells": [
    {
      "cell_type": "code",
      "source": [
        "import os\n",
        "import random\n",
        "import numpy as np\n",
        "import librosa\n",
        "import torch\n",
        "import torch.nn as nn\n",
        "import torch.nn.functional as F\n",
        "from torch.utils.data import Dataset, DataLoader\n",
        "from sklearn.preprocessing import LabelEncoder\n",
        "from sklearn.model_selection import train_test_split\n",
        "from tqdm import tqdm"
      ],
      "metadata": {
        "id": "Y4zFfHvBcOUe"
      },
      "execution_count": 1,
      "outputs": []
    },
    {
      "cell_type": "code",
      "source": [
        "device = torch.device('cuda' if torch.cuda.is_available() else 'cpu')\n",
        "print(device)"
      ],
      "metadata": {
        "colab": {
          "base_uri": "https://localhost:8080/"
        },
        "id": "MTBrlLSedNnu",
        "outputId": "19e599d8-0f51-4917-f562-213a37a0cd3f"
      },
      "execution_count": 2,
      "outputs": [
        {
          "output_type": "stream",
          "name": "stdout",
          "text": [
            "cuda\n"
          ]
        }
      ]
    },
    {
      "cell_type": "code",
      "source": [
        "!unzip data.zip -d /content/genres/"
      ],
      "metadata": {
        "colab": {
          "base_uri": "https://localhost:8080/"
        },
        "collapsed": true,
        "id": "igyNZzSzdnv1",
        "outputId": "6f158680-231b-4476-a914-5cd76de559b4"
      },
      "execution_count": 4,
      "outputs": [
        {
          "output_type": "stream",
          "name": "stdout",
          "text": [
            "Archive:  data.zip\n",
            "   creating: /content/genres/genres_original/\n",
            "   creating: /content/genres/genres_original/blues/\n",
            "  inflating: /content/genres/genres_original/blues/blues.00000.wav  \n",
            "  inflating: /content/genres/genres_original/blues/blues.00001.wav  \n",
            "  inflating: /content/genres/genres_original/blues/blues.00002.wav  \n",
            "  inflating: /content/genres/genres_original/blues/blues.00003.wav  \n",
            "  inflating: /content/genres/genres_original/blues/blues.00004.wav  \n",
            "  inflating: /content/genres/genres_original/blues/blues.00005.wav  \n",
            "  inflating: /content/genres/genres_original/blues/blues.00006.wav  \n",
            "  inflating: /content/genres/genres_original/blues/blues.00007.wav  \n",
            "  inflating: /content/genres/genres_original/blues/blues.00008.wav  \n",
            "  inflating: /content/genres/genres_original/blues/blues.00009.wav  \n",
            "  inflating: /content/genres/genres_original/blues/blues.00010.wav  \n",
            "  inflating: /content/genres/genres_original/blues/blues.00011.wav  \n",
            "  inflating: /content/genres/genres_original/blues/blues.00012.wav  \n",
            "  inflating: /content/genres/genres_original/blues/blues.00013.wav  \n",
            "  inflating: /content/genres/genres_original/blues/blues.00014.wav  \n",
            "  inflating: /content/genres/genres_original/blues/blues.00015.wav  \n",
            "  inflating: /content/genres/genres_original/blues/blues.00016.wav  \n",
            "  inflating: /content/genres/genres_original/blues/blues.00017.wav  \n",
            "  inflating: /content/genres/genres_original/blues/blues.00018.wav  \n",
            "  inflating: /content/genres/genres_original/blues/blues.00019.wav  \n",
            "  inflating: /content/genres/genres_original/blues/blues.00020.wav  \n",
            "  inflating: /content/genres/genres_original/blues/blues.00021.wav  \n",
            "  inflating: /content/genres/genres_original/blues/blues.00022.wav  \n",
            "  inflating: /content/genres/genres_original/blues/blues.00023.wav  \n",
            "  inflating: /content/genres/genres_original/blues/blues.00024.wav  \n",
            "  inflating: /content/genres/genres_original/blues/blues.00025.wav  \n",
            "  inflating: /content/genres/genres_original/blues/blues.00026.wav  \n",
            "  inflating: /content/genres/genres_original/blues/blues.00027.wav  \n",
            "  inflating: /content/genres/genres_original/blues/blues.00028.wav  \n",
            "  inflating: /content/genres/genres_original/blues/blues.00029.wav  \n",
            "  inflating: /content/genres/genres_original/blues/blues.00030.wav  \n",
            "  inflating: /content/genres/genres_original/blues/blues.00031.wav  \n",
            "  inflating: /content/genres/genres_original/blues/blues.00032.wav  \n",
            "  inflating: /content/genres/genres_original/blues/blues.00033.wav  \n",
            "  inflating: /content/genres/genres_original/blues/blues.00034.wav  \n",
            "  inflating: /content/genres/genres_original/blues/blues.00035.wav  \n",
            "  inflating: /content/genres/genres_original/blues/blues.00036.wav  \n",
            "  inflating: /content/genres/genres_original/blues/blues.00037.wav  \n",
            "  inflating: /content/genres/genres_original/blues/blues.00038.wav  \n",
            "  inflating: /content/genres/genres_original/blues/blues.00039.wav  \n",
            "  inflating: /content/genres/genres_original/blues/blues.00040.wav  \n",
            "  inflating: /content/genres/genres_original/blues/blues.00041.wav  \n",
            "  inflating: /content/genres/genres_original/blues/blues.00042.wav  \n",
            "  inflating: /content/genres/genres_original/blues/blues.00043.wav  \n",
            "  inflating: /content/genres/genres_original/blues/blues.00044.wav  \n",
            "  inflating: /content/genres/genres_original/blues/blues.00045.wav  \n",
            "  inflating: /content/genres/genres_original/blues/blues.00046.wav  \n",
            "  inflating: /content/genres/genres_original/blues/blues.00047.wav  \n",
            "  inflating: /content/genres/genres_original/blues/blues.00048.wav  \n",
            "  inflating: /content/genres/genres_original/blues/blues.00049.wav  \n",
            "  inflating: /content/genres/genres_original/blues/blues.00050.wav  \n",
            "  inflating: /content/genres/genres_original/blues/blues.00051.wav  \n",
            "  inflating: /content/genres/genres_original/blues/blues.00052.wav  \n",
            "  inflating: /content/genres/genres_original/blues/blues.00053.wav  \n",
            "  inflating: /content/genres/genres_original/blues/blues.00054.wav  \n",
            "  inflating: /content/genres/genres_original/blues/blues.00055.wav  \n",
            "  inflating: /content/genres/genres_original/blues/blues.00056.wav  \n",
            "  inflating: /content/genres/genres_original/blues/blues.00057.wav  \n",
            "  inflating: /content/genres/genres_original/blues/blues.00058.wav  \n",
            "  inflating: /content/genres/genres_original/blues/blues.00059.wav  \n",
            "  inflating: /content/genres/genres_original/blues/blues.00060.wav  \n",
            "  inflating: /content/genres/genres_original/blues/blues.00061.wav  \n",
            "  inflating: /content/genres/genres_original/blues/blues.00062.wav  \n",
            "  inflating: /content/genres/genres_original/blues/blues.00063.wav  \n",
            "  inflating: /content/genres/genres_original/blues/blues.00064.wav  \n",
            "  inflating: /content/genres/genres_original/blues/blues.00065.wav  \n",
            "  inflating: /content/genres/genres_original/blues/blues.00066.wav  \n",
            "  inflating: /content/genres/genres_original/blues/blues.00067.wav  \n",
            "  inflating: /content/genres/genres_original/blues/blues.00068.wav  \n",
            "  inflating: /content/genres/genres_original/blues/blues.00069.wav  \n",
            "  inflating: /content/genres/genres_original/blues/blues.00070.wav  \n",
            "  inflating: /content/genres/genres_original/blues/blues.00071.wav  \n",
            "  inflating: /content/genres/genres_original/blues/blues.00072.wav  \n",
            "  inflating: /content/genres/genres_original/blues/blues.00073.wav  \n",
            "  inflating: /content/genres/genres_original/blues/blues.00074.wav  \n",
            "  inflating: /content/genres/genres_original/blues/blues.00075.wav  \n",
            "  inflating: /content/genres/genres_original/blues/blues.00076.wav  \n",
            "  inflating: /content/genres/genres_original/blues/blues.00077.wav  \n",
            "  inflating: /content/genres/genres_original/blues/blues.00078.wav  \n",
            "  inflating: /content/genres/genres_original/blues/blues.00079.wav  \n",
            "  inflating: /content/genres/genres_original/blues/blues.00080.wav  \n",
            "  inflating: /content/genres/genres_original/blues/blues.00081.wav  \n",
            "  inflating: /content/genres/genres_original/blues/blues.00082.wav  \n",
            "  inflating: /content/genres/genres_original/blues/blues.00083.wav  \n",
            "  inflating: /content/genres/genres_original/blues/blues.00084.wav  \n",
            "  inflating: /content/genres/genres_original/blues/blues.00085.wav  \n",
            "  inflating: /content/genres/genres_original/blues/blues.00086.wav  \n",
            "  inflating: /content/genres/genres_original/blues/blues.00087.wav  \n",
            "  inflating: /content/genres/genres_original/blues/blues.00088.wav  \n",
            "  inflating: /content/genres/genres_original/blues/blues.00089.wav  \n",
            "  inflating: /content/genres/genres_original/blues/blues.00090.wav  \n",
            "  inflating: /content/genres/genres_original/blues/blues.00091.wav  \n",
            "  inflating: /content/genres/genres_original/blues/blues.00092.wav  \n",
            "  inflating: /content/genres/genres_original/blues/blues.00093.wav  \n",
            "  inflating: /content/genres/genres_original/blues/blues.00094.wav  \n",
            "  inflating: /content/genres/genres_original/blues/blues.00095.wav  \n",
            "  inflating: /content/genres/genres_original/blues/blues.00096.wav  \n",
            "  inflating: /content/genres/genres_original/blues/blues.00097.wav  \n",
            "  inflating: /content/genres/genres_original/blues/blues.00098.wav  \n",
            "  inflating: /content/genres/genres_original/blues/blues.00099.wav  \n",
            "   creating: /content/genres/genres_original/classical/\n",
            "  inflating: /content/genres/genres_original/classical/classical.00000.wav  \n",
            "  inflating: /content/genres/genres_original/classical/classical.00001.wav  \n",
            "  inflating: /content/genres/genres_original/classical/classical.00002.wav  \n",
            "  inflating: /content/genres/genres_original/classical/classical.00003.wav  \n",
            "  inflating: /content/genres/genres_original/classical/classical.00004.wav  \n",
            "  inflating: /content/genres/genres_original/classical/classical.00005.wav  \n",
            "  inflating: /content/genres/genres_original/classical/classical.00006.wav  \n",
            "  inflating: /content/genres/genres_original/classical/classical.00007.wav  \n",
            "  inflating: /content/genres/genres_original/classical/classical.00008.wav  \n",
            "  inflating: /content/genres/genres_original/classical/classical.00009.wav  \n",
            "  inflating: /content/genres/genres_original/classical/classical.00010.wav  \n",
            "  inflating: /content/genres/genres_original/classical/classical.00011.wav  \n",
            "  inflating: /content/genres/genres_original/classical/classical.00012.wav  \n",
            "  inflating: /content/genres/genres_original/classical/classical.00013.wav  \n",
            "  inflating: /content/genres/genres_original/classical/classical.00014.wav  \n",
            "  inflating: /content/genres/genres_original/classical/classical.00015.wav  \n",
            "  inflating: /content/genres/genres_original/classical/classical.00016.wav  \n",
            "  inflating: /content/genres/genres_original/classical/classical.00017.wav  \n",
            "  inflating: /content/genres/genres_original/classical/classical.00018.wav  \n",
            "  inflating: /content/genres/genres_original/classical/classical.00019.wav  \n",
            "  inflating: /content/genres/genres_original/classical/classical.00020.wav  \n",
            "  inflating: /content/genres/genres_original/classical/classical.00021.wav  \n",
            "  inflating: /content/genres/genres_original/classical/classical.00022.wav  \n",
            "  inflating: /content/genres/genres_original/classical/classical.00023.wav  \n",
            "  inflating: /content/genres/genres_original/classical/classical.00024.wav  \n",
            "  inflating: /content/genres/genres_original/classical/classical.00025.wav  \n",
            "  inflating: /content/genres/genres_original/classical/classical.00026.wav  \n",
            "  inflating: /content/genres/genres_original/classical/classical.00027.wav  \n",
            "  inflating: /content/genres/genres_original/classical/classical.00028.wav  \n",
            "  inflating: /content/genres/genres_original/classical/classical.00029.wav  \n",
            "  inflating: /content/genres/genres_original/classical/classical.00030.wav  \n",
            "  inflating: /content/genres/genres_original/classical/classical.00031.wav  \n",
            "  inflating: /content/genres/genres_original/classical/classical.00032.wav  \n",
            "  inflating: /content/genres/genres_original/classical/classical.00033.wav  \n",
            "  inflating: /content/genres/genres_original/classical/classical.00034.wav  \n",
            "  inflating: /content/genres/genres_original/classical/classical.00035.wav  \n",
            "  inflating: /content/genres/genres_original/classical/classical.00036.wav  \n",
            "  inflating: /content/genres/genres_original/classical/classical.00037.wav  \n",
            "  inflating: /content/genres/genres_original/classical/classical.00038.wav  \n",
            "  inflating: /content/genres/genres_original/classical/classical.00039.wav  \n",
            "  inflating: /content/genres/genres_original/classical/classical.00040.wav  \n",
            "  inflating: /content/genres/genres_original/classical/classical.00041.wav  \n",
            "  inflating: /content/genres/genres_original/classical/classical.00042.wav  \n",
            "  inflating: /content/genres/genres_original/classical/classical.00043.wav  \n",
            "  inflating: /content/genres/genres_original/classical/classical.00044.wav  \n",
            "  inflating: /content/genres/genres_original/classical/classical.00045.wav  \n",
            "  inflating: /content/genres/genres_original/classical/classical.00046.wav  \n",
            "  inflating: /content/genres/genres_original/classical/classical.00047.wav  \n",
            "  inflating: /content/genres/genres_original/classical/classical.00048.wav  \n",
            "  inflating: /content/genres/genres_original/classical/classical.00049.wav  \n",
            "  inflating: /content/genres/genres_original/classical/classical.00050.wav  \n",
            "  inflating: /content/genres/genres_original/classical/classical.00051.wav  \n",
            "  inflating: /content/genres/genres_original/classical/classical.00052.wav  \n",
            "  inflating: /content/genres/genres_original/classical/classical.00053.wav  \n",
            "  inflating: /content/genres/genres_original/classical/classical.00054.wav  \n",
            "  inflating: /content/genres/genres_original/classical/classical.00055.wav  \n",
            "  inflating: /content/genres/genres_original/classical/classical.00056.wav  \n",
            "  inflating: /content/genres/genres_original/classical/classical.00057.wav  \n",
            "  inflating: /content/genres/genres_original/classical/classical.00058.wav  \n",
            "  inflating: /content/genres/genres_original/classical/classical.00059.wav  \n",
            "  inflating: /content/genres/genres_original/classical/classical.00060.wav  \n",
            "  inflating: /content/genres/genres_original/classical/classical.00061.wav  \n",
            "  inflating: /content/genres/genres_original/classical/classical.00062.wav  \n",
            "  inflating: /content/genres/genres_original/classical/classical.00063.wav  \n",
            "  inflating: /content/genres/genres_original/classical/classical.00064.wav  \n",
            "  inflating: /content/genres/genres_original/classical/classical.00065.wav  \n",
            "  inflating: /content/genres/genres_original/classical/classical.00066.wav  \n",
            "  inflating: /content/genres/genres_original/classical/classical.00067.wav  \n",
            "  inflating: /content/genres/genres_original/classical/classical.00068.wav  \n",
            "  inflating: /content/genres/genres_original/classical/classical.00069.wav  \n",
            "  inflating: /content/genres/genres_original/classical/classical.00070.wav  \n",
            "  inflating: /content/genres/genres_original/classical/classical.00071.wav  \n",
            "  inflating: /content/genres/genres_original/classical/classical.00072.wav  \n",
            "  inflating: /content/genres/genres_original/classical/classical.00073.wav  \n",
            "  inflating: /content/genres/genres_original/classical/classical.00074.wav  \n",
            "  inflating: /content/genres/genres_original/classical/classical.00075.wav  \n",
            "  inflating: /content/genres/genres_original/classical/classical.00076.wav  \n",
            "  inflating: /content/genres/genres_original/classical/classical.00077.wav  \n",
            "  inflating: /content/genres/genres_original/classical/classical.00078.wav  \n",
            "  inflating: /content/genres/genres_original/classical/classical.00079.wav  \n",
            "  inflating: /content/genres/genres_original/classical/classical.00080.wav  \n",
            "  inflating: /content/genres/genres_original/classical/classical.00081.wav  \n",
            "  inflating: /content/genres/genres_original/classical/classical.00082.wav  \n",
            "  inflating: /content/genres/genres_original/classical/classical.00083.wav  \n",
            "  inflating: /content/genres/genres_original/classical/classical.00084.wav  \n",
            "  inflating: /content/genres/genres_original/classical/classical.00085.wav  \n",
            "  inflating: /content/genres/genres_original/classical/classical.00086.wav  \n",
            "  inflating: /content/genres/genres_original/classical/classical.00087.wav  \n",
            "  inflating: /content/genres/genres_original/classical/classical.00088.wav  \n",
            "  inflating: /content/genres/genres_original/classical/classical.00089.wav  \n",
            "  inflating: /content/genres/genres_original/classical/classical.00090.wav  \n",
            "  inflating: /content/genres/genres_original/classical/classical.00091.wav  \n",
            "  inflating: /content/genres/genres_original/classical/classical.00092.wav  \n",
            "  inflating: /content/genres/genres_original/classical/classical.00093.wav  \n",
            "  inflating: /content/genres/genres_original/classical/classical.00094.wav  \n",
            "  inflating: /content/genres/genres_original/classical/classical.00095.wav  \n",
            "  inflating: /content/genres/genres_original/classical/classical.00096.wav  \n",
            "  inflating: /content/genres/genres_original/classical/classical.00097.wav  \n",
            "  inflating: /content/genres/genres_original/classical/classical.00098.wav  \n",
            "  inflating: /content/genres/genres_original/classical/classical.00099.wav  \n",
            "   creating: /content/genres/genres_original/country/\n",
            "  inflating: /content/genres/genres_original/country/country.00000.wav  \n",
            "  inflating: /content/genres/genres_original/country/country.00001.wav  \n",
            "  inflating: /content/genres/genres_original/country/country.00002.wav  \n",
            "  inflating: /content/genres/genres_original/country/country.00003.wav  \n",
            "  inflating: /content/genres/genres_original/country/country.00004.wav  \n",
            "  inflating: /content/genres/genres_original/country/country.00005.wav  \n",
            "  inflating: /content/genres/genres_original/country/country.00006.wav  \n",
            "  inflating: /content/genres/genres_original/country/country.00007.wav  \n",
            "  inflating: /content/genres/genres_original/country/country.00008.wav  \n",
            "  inflating: /content/genres/genres_original/country/country.00009.wav  \n",
            "  inflating: /content/genres/genres_original/country/country.00010.wav  \n",
            "  inflating: /content/genres/genres_original/country/country.00011.wav  \n",
            "  inflating: /content/genres/genres_original/country/country.00012.wav  \n",
            "  inflating: /content/genres/genres_original/country/country.00013.wav  \n",
            "  inflating: /content/genres/genres_original/country/country.00014.wav  \n",
            "  inflating: /content/genres/genres_original/country/country.00015.wav  \n",
            "  inflating: /content/genres/genres_original/country/country.00016.wav  \n",
            "  inflating: /content/genres/genres_original/country/country.00017.wav  \n",
            "  inflating: /content/genres/genres_original/country/country.00018.wav  \n",
            "  inflating: /content/genres/genres_original/country/country.00019.wav  \n",
            "  inflating: /content/genres/genres_original/country/country.00020.wav  \n",
            "  inflating: /content/genres/genres_original/country/country.00021.wav  \n",
            "  inflating: /content/genres/genres_original/country/country.00022.wav  \n",
            "  inflating: /content/genres/genres_original/country/country.00023.wav  \n",
            "  inflating: /content/genres/genres_original/country/country.00024.wav  \n",
            "  inflating: /content/genres/genres_original/country/country.00025.wav  \n",
            "  inflating: /content/genres/genres_original/country/country.00026.wav  \n",
            "  inflating: /content/genres/genres_original/country/country.00027.wav  \n",
            "  inflating: /content/genres/genres_original/country/country.00028.wav  \n",
            "  inflating: /content/genres/genres_original/country/country.00029.wav  \n",
            "  inflating: /content/genres/genres_original/country/country.00030.wav  \n",
            "  inflating: /content/genres/genres_original/country/country.00031.wav  \n",
            "  inflating: /content/genres/genres_original/country/country.00032.wav  \n",
            "  inflating: /content/genres/genres_original/country/country.00033.wav  \n",
            "  inflating: /content/genres/genres_original/country/country.00034.wav  \n",
            "  inflating: /content/genres/genres_original/country/country.00035.wav  \n",
            "  inflating: /content/genres/genres_original/country/country.00036.wav  \n",
            "  inflating: /content/genres/genres_original/country/country.00037.wav  \n",
            "  inflating: /content/genres/genres_original/country/country.00038.wav  \n",
            "  inflating: /content/genres/genres_original/country/country.00039.wav  \n",
            "  inflating: /content/genres/genres_original/country/country.00040.wav  \n",
            "  inflating: /content/genres/genres_original/country/country.00041.wav  \n",
            "  inflating: /content/genres/genres_original/country/country.00042.wav  \n",
            "  inflating: /content/genres/genres_original/country/country.00043.wav  \n",
            "  inflating: /content/genres/genres_original/country/country.00044.wav  \n",
            "  inflating: /content/genres/genres_original/country/country.00045.wav  \n",
            "  inflating: /content/genres/genres_original/country/country.00046.wav  \n",
            "  inflating: /content/genres/genres_original/country/country.00047.wav  \n",
            "  inflating: /content/genres/genres_original/country/country.00048.wav  \n",
            "  inflating: /content/genres/genres_original/country/country.00049.wav  \n",
            "  inflating: /content/genres/genres_original/country/country.00050.wav  \n",
            "  inflating: /content/genres/genres_original/country/country.00051.wav  \n",
            "  inflating: /content/genres/genres_original/country/country.00052.wav  \n",
            "  inflating: /content/genres/genres_original/country/country.00053.wav  \n",
            "  inflating: /content/genres/genres_original/country/country.00054.wav  \n",
            "  inflating: /content/genres/genres_original/country/country.00055.wav  \n",
            "  inflating: /content/genres/genres_original/country/country.00056.wav  \n",
            "  inflating: /content/genres/genres_original/country/country.00057.wav  \n",
            "  inflating: /content/genres/genres_original/country/country.00058.wav  \n",
            "  inflating: /content/genres/genres_original/country/country.00059.wav  \n",
            "  inflating: /content/genres/genres_original/country/country.00060.wav  \n",
            "  inflating: /content/genres/genres_original/country/country.00061.wav  \n",
            "  inflating: /content/genres/genres_original/country/country.00062.wav  \n",
            "  inflating: /content/genres/genres_original/country/country.00063.wav  \n",
            "  inflating: /content/genres/genres_original/country/country.00064.wav  \n",
            "  inflating: /content/genres/genres_original/country/country.00065.wav  \n",
            "  inflating: /content/genres/genres_original/country/country.00066.wav  \n",
            "  inflating: /content/genres/genres_original/country/country.00067.wav  \n",
            "  inflating: /content/genres/genres_original/country/country.00068.wav  \n",
            "  inflating: /content/genres/genres_original/country/country.00069.wav  \n",
            "  inflating: /content/genres/genres_original/country/country.00070.wav  \n",
            "  inflating: /content/genres/genres_original/country/country.00071.wav  \n",
            "  inflating: /content/genres/genres_original/country/country.00072.wav  \n",
            "  inflating: /content/genres/genres_original/country/country.00073.wav  \n",
            "  inflating: /content/genres/genres_original/country/country.00074.wav  \n",
            "  inflating: /content/genres/genres_original/country/country.00075.wav  \n",
            "  inflating: /content/genres/genres_original/country/country.00076.wav  \n",
            "  inflating: /content/genres/genres_original/country/country.00077.wav  \n",
            "  inflating: /content/genres/genres_original/country/country.00078.wav  \n",
            "  inflating: /content/genres/genres_original/country/country.00079.wav  \n",
            "  inflating: /content/genres/genres_original/country/country.00080.wav  \n",
            "  inflating: /content/genres/genres_original/country/country.00081.wav  \n",
            "  inflating: /content/genres/genres_original/country/country.00082.wav  \n",
            "  inflating: /content/genres/genres_original/country/country.00083.wav  \n",
            "  inflating: /content/genres/genres_original/country/country.00084.wav  \n",
            "  inflating: /content/genres/genres_original/country/country.00085.wav  \n",
            "  inflating: /content/genres/genres_original/country/country.00086.wav  \n",
            "  inflating: /content/genres/genres_original/country/country.00087.wav  \n",
            "  inflating: /content/genres/genres_original/country/country.00088.wav  \n",
            "  inflating: /content/genres/genres_original/country/country.00089.wav  \n",
            "  inflating: /content/genres/genres_original/country/country.00090.wav  \n",
            "  inflating: /content/genres/genres_original/country/country.00091.wav  \n",
            "  inflating: /content/genres/genres_original/country/country.00092.wav  \n",
            "  inflating: /content/genres/genres_original/country/country.00093.wav  \n",
            "  inflating: /content/genres/genres_original/country/country.00094.wav  \n",
            "  inflating: /content/genres/genres_original/country/country.00095.wav  \n",
            "  inflating: /content/genres/genres_original/country/country.00096.wav  \n",
            "  inflating: /content/genres/genres_original/country/country.00097.wav  \n",
            "  inflating: /content/genres/genres_original/country/country.00098.wav  \n",
            "  inflating: /content/genres/genres_original/country/country.00099.wav  \n",
            "   creating: /content/genres/genres_original/disco/\n",
            "  inflating: /content/genres/genres_original/disco/disco.00000.wav  \n",
            "  inflating: /content/genres/genres_original/disco/disco.00001.wav  \n",
            "  inflating: /content/genres/genres_original/disco/disco.00002.wav  \n",
            "  inflating: /content/genres/genres_original/disco/disco.00003.wav  \n",
            "  inflating: /content/genres/genres_original/disco/disco.00004.wav  \n",
            "  inflating: /content/genres/genres_original/disco/disco.00005.wav  \n",
            "  inflating: /content/genres/genres_original/disco/disco.00006.wav  \n",
            "  inflating: /content/genres/genres_original/disco/disco.00007.wav  \n",
            "  inflating: /content/genres/genres_original/disco/disco.00008.wav  \n",
            "  inflating: /content/genres/genres_original/disco/disco.00009.wav  \n",
            "  inflating: /content/genres/genres_original/disco/disco.00010.wav  \n",
            "  inflating: /content/genres/genres_original/disco/disco.00011.wav  \n",
            "  inflating: /content/genres/genres_original/disco/disco.00012.wav  \n",
            "  inflating: /content/genres/genres_original/disco/disco.00013.wav  \n",
            "  inflating: /content/genres/genres_original/disco/disco.00014.wav  \n",
            "  inflating: /content/genres/genres_original/disco/disco.00015.wav  \n",
            "  inflating: /content/genres/genres_original/disco/disco.00016.wav  \n",
            "  inflating: /content/genres/genres_original/disco/disco.00017.wav  \n",
            "  inflating: /content/genres/genres_original/disco/disco.00018.wav  \n",
            "  inflating: /content/genres/genres_original/disco/disco.00019.wav  \n",
            "  inflating: /content/genres/genres_original/disco/disco.00020.wav  \n",
            "  inflating: /content/genres/genres_original/disco/disco.00021.wav  \n",
            "  inflating: /content/genres/genres_original/disco/disco.00022.wav  \n",
            "  inflating: /content/genres/genres_original/disco/disco.00023.wav  \n",
            "  inflating: /content/genres/genres_original/disco/disco.00024.wav  \n",
            "  inflating: /content/genres/genres_original/disco/disco.00025.wav  \n",
            "  inflating: /content/genres/genres_original/disco/disco.00026.wav  \n",
            "  inflating: /content/genres/genres_original/disco/disco.00027.wav  \n",
            "  inflating: /content/genres/genres_original/disco/disco.00028.wav  \n",
            "  inflating: /content/genres/genres_original/disco/disco.00029.wav  \n",
            "  inflating: /content/genres/genres_original/disco/disco.00030.wav  \n",
            "  inflating: /content/genres/genres_original/disco/disco.00031.wav  \n",
            "  inflating: /content/genres/genres_original/disco/disco.00032.wav  \n",
            "  inflating: /content/genres/genres_original/disco/disco.00033.wav  \n",
            "  inflating: /content/genres/genres_original/disco/disco.00034.wav  \n",
            "  inflating: /content/genres/genres_original/disco/disco.00035.wav  \n",
            "  inflating: /content/genres/genres_original/disco/disco.00036.wav  \n",
            "  inflating: /content/genres/genres_original/disco/disco.00037.wav  \n",
            "  inflating: /content/genres/genres_original/disco/disco.00038.wav  \n",
            "  inflating: /content/genres/genres_original/disco/disco.00039.wav  \n",
            "  inflating: /content/genres/genres_original/disco/disco.00040.wav  \n",
            "  inflating: /content/genres/genres_original/disco/disco.00041.wav  \n",
            "  inflating: /content/genres/genres_original/disco/disco.00042.wav  \n",
            "  inflating: /content/genres/genres_original/disco/disco.00043.wav  \n",
            "  inflating: /content/genres/genres_original/disco/disco.00044.wav  \n",
            "  inflating: /content/genres/genres_original/disco/disco.00045.wav  \n",
            "  inflating: /content/genres/genres_original/disco/disco.00046.wav  \n",
            "  inflating: /content/genres/genres_original/disco/disco.00047.wav  \n",
            "  inflating: /content/genres/genres_original/disco/disco.00048.wav  \n",
            "  inflating: /content/genres/genres_original/disco/disco.00049.wav  \n",
            "  inflating: /content/genres/genres_original/disco/disco.00050.wav  \n",
            "  inflating: /content/genres/genres_original/disco/disco.00051.wav  \n",
            "  inflating: /content/genres/genres_original/disco/disco.00052.wav  \n",
            "  inflating: /content/genres/genres_original/disco/disco.00053.wav  \n",
            "  inflating: /content/genres/genres_original/disco/disco.00054.wav  \n",
            "  inflating: /content/genres/genres_original/disco/disco.00055.wav  \n",
            "  inflating: /content/genres/genres_original/disco/disco.00056.wav  \n",
            "  inflating: /content/genres/genres_original/disco/disco.00057.wav  \n",
            "  inflating: /content/genres/genres_original/disco/disco.00058.wav  \n",
            "  inflating: /content/genres/genres_original/disco/disco.00059.wav  \n",
            "  inflating: /content/genres/genres_original/disco/disco.00060.wav  \n",
            "  inflating: /content/genres/genres_original/disco/disco.00061.wav  \n",
            "  inflating: /content/genres/genres_original/disco/disco.00062.wav  \n",
            "  inflating: /content/genres/genres_original/disco/disco.00063.wav  \n",
            "  inflating: /content/genres/genres_original/disco/disco.00064.wav  \n",
            "  inflating: /content/genres/genres_original/disco/disco.00065.wav  \n",
            "  inflating: /content/genres/genres_original/disco/disco.00066.wav  \n",
            "  inflating: /content/genres/genres_original/disco/disco.00067.wav  \n",
            "  inflating: /content/genres/genres_original/disco/disco.00068.wav  \n",
            "  inflating: /content/genres/genres_original/disco/disco.00069.wav  \n",
            "  inflating: /content/genres/genres_original/disco/disco.00070.wav  \n",
            "  inflating: /content/genres/genres_original/disco/disco.00071.wav  \n",
            "  inflating: /content/genres/genres_original/disco/disco.00072.wav  \n",
            "  inflating: /content/genres/genres_original/disco/disco.00073.wav  \n",
            "  inflating: /content/genres/genres_original/disco/disco.00074.wav  \n",
            "  inflating: /content/genres/genres_original/disco/disco.00075.wav  \n",
            "  inflating: /content/genres/genres_original/disco/disco.00076.wav  \n",
            "  inflating: /content/genres/genres_original/disco/disco.00077.wav  \n",
            "  inflating: /content/genres/genres_original/disco/disco.00078.wav  \n",
            "  inflating: /content/genres/genres_original/disco/disco.00079.wav  \n",
            "  inflating: /content/genres/genres_original/disco/disco.00080.wav  \n",
            "  inflating: /content/genres/genres_original/disco/disco.00081.wav  \n",
            "  inflating: /content/genres/genres_original/disco/disco.00082.wav  \n",
            "  inflating: /content/genres/genres_original/disco/disco.00083.wav  \n",
            "  inflating: /content/genres/genres_original/disco/disco.00084.wav  \n",
            "  inflating: /content/genres/genres_original/disco/disco.00085.wav  \n",
            "  inflating: /content/genres/genres_original/disco/disco.00086.wav  \n",
            "  inflating: /content/genres/genres_original/disco/disco.00087.wav  \n",
            "  inflating: /content/genres/genres_original/disco/disco.00088.wav  \n",
            "  inflating: /content/genres/genres_original/disco/disco.00089.wav  \n",
            "  inflating: /content/genres/genres_original/disco/disco.00090.wav  \n",
            "  inflating: /content/genres/genres_original/disco/disco.00091.wav  \n",
            "  inflating: /content/genres/genres_original/disco/disco.00092.wav  \n",
            "  inflating: /content/genres/genres_original/disco/disco.00093.wav  \n",
            "  inflating: /content/genres/genres_original/disco/disco.00094.wav  \n",
            "  inflating: /content/genres/genres_original/disco/disco.00095.wav  \n",
            "  inflating: /content/genres/genres_original/disco/disco.00096.wav  \n",
            "  inflating: /content/genres/genres_original/disco/disco.00097.wav  \n",
            "  inflating: /content/genres/genres_original/disco/disco.00098.wav  \n",
            "  inflating: /content/genres/genres_original/disco/disco.00099.wav  \n",
            "   creating: /content/genres/genres_original/hiphop/\n",
            "  inflating: /content/genres/genres_original/hiphop/hiphop.00000.wav  \n",
            "  inflating: /content/genres/genres_original/hiphop/hiphop.00001.wav  \n",
            "  inflating: /content/genres/genres_original/hiphop/hiphop.00002.wav  \n",
            "  inflating: /content/genres/genres_original/hiphop/hiphop.00003.wav  \n",
            "  inflating: /content/genres/genres_original/hiphop/hiphop.00004.wav  \n",
            "  inflating: /content/genres/genres_original/hiphop/hiphop.00005.wav  \n",
            "  inflating: /content/genres/genres_original/hiphop/hiphop.00006.wav  \n",
            "  inflating: /content/genres/genres_original/hiphop/hiphop.00007.wav  \n",
            "  inflating: /content/genres/genres_original/hiphop/hiphop.00008.wav  \n",
            "  inflating: /content/genres/genres_original/hiphop/hiphop.00009.wav  \n",
            "  inflating: /content/genres/genres_original/hiphop/hiphop.00010.wav  \n",
            "  inflating: /content/genres/genres_original/hiphop/hiphop.00011.wav  \n",
            "  inflating: /content/genres/genres_original/hiphop/hiphop.00012.wav  \n",
            "  inflating: /content/genres/genres_original/hiphop/hiphop.00013.wav  \n",
            "  inflating: /content/genres/genres_original/hiphop/hiphop.00014.wav  \n",
            "  inflating: /content/genres/genres_original/hiphop/hiphop.00015.wav  \n",
            "  inflating: /content/genres/genres_original/hiphop/hiphop.00016.wav  \n",
            "  inflating: /content/genres/genres_original/hiphop/hiphop.00017.wav  \n",
            "  inflating: /content/genres/genres_original/hiphop/hiphop.00018.wav  \n",
            "  inflating: /content/genres/genres_original/hiphop/hiphop.00019.wav  \n",
            "  inflating: /content/genres/genres_original/hiphop/hiphop.00020.wav  \n",
            "  inflating: /content/genres/genres_original/hiphop/hiphop.00021.wav  \n",
            "  inflating: /content/genres/genres_original/hiphop/hiphop.00022.wav  \n",
            "  inflating: /content/genres/genres_original/hiphop/hiphop.00023.wav  \n",
            "  inflating: /content/genres/genres_original/hiphop/hiphop.00024.wav  \n",
            "  inflating: /content/genres/genres_original/hiphop/hiphop.00025.wav  \n",
            "  inflating: /content/genres/genres_original/hiphop/hiphop.00026.wav  \n",
            "  inflating: /content/genres/genres_original/hiphop/hiphop.00027.wav  \n",
            "  inflating: /content/genres/genres_original/hiphop/hiphop.00028.wav  \n",
            "  inflating: /content/genres/genres_original/hiphop/hiphop.00029.wav  \n",
            "  inflating: /content/genres/genres_original/hiphop/hiphop.00030.wav  \n",
            "  inflating: /content/genres/genres_original/hiphop/hiphop.00031.wav  \n",
            "  inflating: /content/genres/genres_original/hiphop/hiphop.00032.wav  \n",
            "  inflating: /content/genres/genres_original/hiphop/hiphop.00033.wav  \n",
            "  inflating: /content/genres/genres_original/hiphop/hiphop.00034.wav  \n",
            "  inflating: /content/genres/genres_original/hiphop/hiphop.00035.wav  \n",
            "  inflating: /content/genres/genres_original/hiphop/hiphop.00036.wav  \n",
            "  inflating: /content/genres/genres_original/hiphop/hiphop.00037.wav  \n",
            "  inflating: /content/genres/genres_original/hiphop/hiphop.00038.wav  \n",
            "  inflating: /content/genres/genres_original/hiphop/hiphop.00039.wav  \n",
            "  inflating: /content/genres/genres_original/hiphop/hiphop.00040.wav  \n",
            "  inflating: /content/genres/genres_original/hiphop/hiphop.00041.wav  \n",
            "  inflating: /content/genres/genres_original/hiphop/hiphop.00042.wav  \n",
            "  inflating: /content/genres/genres_original/hiphop/hiphop.00043.wav  \n",
            "  inflating: /content/genres/genres_original/hiphop/hiphop.00044.wav  \n",
            "  inflating: /content/genres/genres_original/hiphop/hiphop.00045.wav  \n",
            "  inflating: /content/genres/genres_original/hiphop/hiphop.00046.wav  \n",
            "  inflating: /content/genres/genres_original/hiphop/hiphop.00047.wav  \n",
            "  inflating: /content/genres/genres_original/hiphop/hiphop.00048.wav  \n",
            "  inflating: /content/genres/genres_original/hiphop/hiphop.00049.wav  \n",
            "  inflating: /content/genres/genres_original/hiphop/hiphop.00050.wav  \n",
            "  inflating: /content/genres/genres_original/hiphop/hiphop.00051.wav  \n",
            "  inflating: /content/genres/genres_original/hiphop/hiphop.00052.wav  \n",
            "  inflating: /content/genres/genres_original/hiphop/hiphop.00053.wav  \n",
            "  inflating: /content/genres/genres_original/hiphop/hiphop.00054.wav  \n",
            "  inflating: /content/genres/genres_original/hiphop/hiphop.00055.wav  \n",
            "  inflating: /content/genres/genres_original/hiphop/hiphop.00056.wav  \n",
            "  inflating: /content/genres/genres_original/hiphop/hiphop.00057.wav  \n",
            "  inflating: /content/genres/genres_original/hiphop/hiphop.00058.wav  \n",
            "  inflating: /content/genres/genres_original/hiphop/hiphop.00059.wav  \n",
            "  inflating: /content/genres/genres_original/hiphop/hiphop.00060.wav  \n",
            "  inflating: /content/genres/genres_original/hiphop/hiphop.00061.wav  \n",
            "  inflating: /content/genres/genres_original/hiphop/hiphop.00062.wav  \n",
            "  inflating: /content/genres/genres_original/hiphop/hiphop.00063.wav  \n",
            "  inflating: /content/genres/genres_original/hiphop/hiphop.00064.wav  \n",
            "  inflating: /content/genres/genres_original/hiphop/hiphop.00065.wav  \n",
            "  inflating: /content/genres/genres_original/hiphop/hiphop.00066.wav  \n",
            "  inflating: /content/genres/genres_original/hiphop/hiphop.00067.wav  \n",
            "  inflating: /content/genres/genres_original/hiphop/hiphop.00068.wav  \n",
            "  inflating: /content/genres/genres_original/hiphop/hiphop.00069.wav  \n",
            "  inflating: /content/genres/genres_original/hiphop/hiphop.00070.wav  \n",
            "  inflating: /content/genres/genres_original/hiphop/hiphop.00071.wav  \n",
            "  inflating: /content/genres/genres_original/hiphop/hiphop.00072.wav  \n",
            "  inflating: /content/genres/genres_original/hiphop/hiphop.00073.wav  \n",
            "  inflating: /content/genres/genres_original/hiphop/hiphop.00074.wav  \n",
            "  inflating: /content/genres/genres_original/hiphop/hiphop.00075.wav  \n",
            "  inflating: /content/genres/genres_original/hiphop/hiphop.00076.wav  \n",
            "  inflating: /content/genres/genres_original/hiphop/hiphop.00077.wav  \n",
            "  inflating: /content/genres/genres_original/hiphop/hiphop.00078.wav  \n",
            "  inflating: /content/genres/genres_original/hiphop/hiphop.00079.wav  \n",
            "  inflating: /content/genres/genres_original/hiphop/hiphop.00080.wav  \n",
            "  inflating: /content/genres/genres_original/hiphop/hiphop.00081.wav  \n",
            "  inflating: /content/genres/genres_original/hiphop/hiphop.00082.wav  \n",
            "  inflating: /content/genres/genres_original/hiphop/hiphop.00083.wav  \n",
            "  inflating: /content/genres/genres_original/hiphop/hiphop.00084.wav  \n",
            "  inflating: /content/genres/genres_original/hiphop/hiphop.00085.wav  \n",
            "  inflating: /content/genres/genres_original/hiphop/hiphop.00086.wav  \n",
            "  inflating: /content/genres/genres_original/hiphop/hiphop.00087.wav  \n",
            "  inflating: /content/genres/genres_original/hiphop/hiphop.00088.wav  \n",
            "  inflating: /content/genres/genres_original/hiphop/hiphop.00089.wav  \n",
            "  inflating: /content/genres/genres_original/hiphop/hiphop.00090.wav  \n",
            "  inflating: /content/genres/genres_original/hiphop/hiphop.00091.wav  \n",
            "  inflating: /content/genres/genres_original/hiphop/hiphop.00092.wav  \n",
            "  inflating: /content/genres/genres_original/hiphop/hiphop.00093.wav  \n",
            "  inflating: /content/genres/genres_original/hiphop/hiphop.00094.wav  \n",
            "  inflating: /content/genres/genres_original/hiphop/hiphop.00095.wav  \n",
            "  inflating: /content/genres/genres_original/hiphop/hiphop.00096.wav  \n",
            "  inflating: /content/genres/genres_original/hiphop/hiphop.00097.wav  \n",
            "  inflating: /content/genres/genres_original/hiphop/hiphop.00098.wav  \n",
            "  inflating: /content/genres/genres_original/hiphop/hiphop.00099.wav  \n",
            "   creating: /content/genres/genres_original/jazz/\n",
            "  inflating: /content/genres/genres_original/jazz/jazz.00000.wav  \n",
            "  inflating: /content/genres/genres_original/jazz/jazz.00001.wav  \n",
            "  inflating: /content/genres/genres_original/jazz/jazz.00002.wav  \n",
            "  inflating: /content/genres/genres_original/jazz/jazz.00003.wav  \n",
            "  inflating: /content/genres/genres_original/jazz/jazz.00004.wav  \n",
            "  inflating: /content/genres/genres_original/jazz/jazz.00005.wav  \n",
            "  inflating: /content/genres/genres_original/jazz/jazz.00006.wav  \n",
            "  inflating: /content/genres/genres_original/jazz/jazz.00007.wav  \n",
            "  inflating: /content/genres/genres_original/jazz/jazz.00008.wav  \n",
            "  inflating: /content/genres/genres_original/jazz/jazz.00009.wav  \n",
            "  inflating: /content/genres/genres_original/jazz/jazz.00010.wav  \n",
            "  inflating: /content/genres/genres_original/jazz/jazz.00011.wav  \n",
            "  inflating: /content/genres/genres_original/jazz/jazz.00012.wav  \n",
            "  inflating: /content/genres/genres_original/jazz/jazz.00013.wav  \n",
            "  inflating: /content/genres/genres_original/jazz/jazz.00014.wav  \n",
            "  inflating: /content/genres/genres_original/jazz/jazz.00015.wav  \n",
            "  inflating: /content/genres/genres_original/jazz/jazz.00016.wav  \n",
            "  inflating: /content/genres/genres_original/jazz/jazz.00017.wav  \n",
            "  inflating: /content/genres/genres_original/jazz/jazz.00018.wav  \n",
            "  inflating: /content/genres/genres_original/jazz/jazz.00019.wav  \n",
            "  inflating: /content/genres/genres_original/jazz/jazz.00020.wav  \n",
            "  inflating: /content/genres/genres_original/jazz/jazz.00021.wav  \n",
            "  inflating: /content/genres/genres_original/jazz/jazz.00022.wav  \n",
            "  inflating: /content/genres/genres_original/jazz/jazz.00023.wav  \n",
            "  inflating: /content/genres/genres_original/jazz/jazz.00024.wav  \n",
            "  inflating: /content/genres/genres_original/jazz/jazz.00025.wav  \n",
            "  inflating: /content/genres/genres_original/jazz/jazz.00026.wav  \n",
            "  inflating: /content/genres/genres_original/jazz/jazz.00027.wav  \n",
            "  inflating: /content/genres/genres_original/jazz/jazz.00028.wav  \n",
            "  inflating: /content/genres/genres_original/jazz/jazz.00029.wav  \n",
            "  inflating: /content/genres/genres_original/jazz/jazz.00030.wav  \n",
            "  inflating: /content/genres/genres_original/jazz/jazz.00031.wav  \n",
            "  inflating: /content/genres/genres_original/jazz/jazz.00032.wav  \n",
            "  inflating: /content/genres/genres_original/jazz/jazz.00033.wav  \n",
            "  inflating: /content/genres/genres_original/jazz/jazz.00034.wav  \n",
            "  inflating: /content/genres/genres_original/jazz/jazz.00035.wav  \n",
            "  inflating: /content/genres/genres_original/jazz/jazz.00036.wav  \n",
            "  inflating: /content/genres/genres_original/jazz/jazz.00037.wav  \n",
            "  inflating: /content/genres/genres_original/jazz/jazz.00038.wav  \n",
            "  inflating: /content/genres/genres_original/jazz/jazz.00039.wav  \n",
            "  inflating: /content/genres/genres_original/jazz/jazz.00040.wav  \n",
            "  inflating: /content/genres/genres_original/jazz/jazz.00041.wav  \n",
            "  inflating: /content/genres/genres_original/jazz/jazz.00042.wav  \n",
            "  inflating: /content/genres/genres_original/jazz/jazz.00043.wav  \n",
            "  inflating: /content/genres/genres_original/jazz/jazz.00044.wav  \n",
            "  inflating: /content/genres/genres_original/jazz/jazz.00045.wav  \n",
            "  inflating: /content/genres/genres_original/jazz/jazz.00046.wav  \n",
            "  inflating: /content/genres/genres_original/jazz/jazz.00047.wav  \n",
            "  inflating: /content/genres/genres_original/jazz/jazz.00048.wav  \n",
            "  inflating: /content/genres/genres_original/jazz/jazz.00049.wav  \n",
            "  inflating: /content/genres/genres_original/jazz/jazz.00050.wav  \n",
            "  inflating: /content/genres/genres_original/jazz/jazz.00051.wav  \n",
            "  inflating: /content/genres/genres_original/jazz/jazz.00052.wav  \n",
            "  inflating: /content/genres/genres_original/jazz/jazz.00053.wav  \n",
            "  inflating: /content/genres/genres_original/jazz/jazz.00054.wav  \n",
            "  inflating: /content/genres/genres_original/jazz/jazz.00055.wav  \n",
            "  inflating: /content/genres/genres_original/jazz/jazz.00056.wav  \n",
            "  inflating: /content/genres/genres_original/jazz/jazz.00057.wav  \n",
            "  inflating: /content/genres/genres_original/jazz/jazz.00058.wav  \n",
            "  inflating: /content/genres/genres_original/jazz/jazz.00059.wav  \n",
            "  inflating: /content/genres/genres_original/jazz/jazz.00060.wav  \n",
            "  inflating: /content/genres/genres_original/jazz/jazz.00061.wav  \n",
            "  inflating: /content/genres/genres_original/jazz/jazz.00062.wav  \n",
            "  inflating: /content/genres/genres_original/jazz/jazz.00063.wav  \n",
            "  inflating: /content/genres/genres_original/jazz/jazz.00064.wav  \n",
            "  inflating: /content/genres/genres_original/jazz/jazz.00065.wav  \n",
            "  inflating: /content/genres/genres_original/jazz/jazz.00066.wav  \n",
            "  inflating: /content/genres/genres_original/jazz/jazz.00067.wav  \n",
            "  inflating: /content/genres/genres_original/jazz/jazz.00068.wav  \n",
            "  inflating: /content/genres/genres_original/jazz/jazz.00069.wav  \n",
            "  inflating: /content/genres/genres_original/jazz/jazz.00070.wav  \n",
            "  inflating: /content/genres/genres_original/jazz/jazz.00071.wav  \n",
            "  inflating: /content/genres/genres_original/jazz/jazz.00072.wav  \n",
            "  inflating: /content/genres/genres_original/jazz/jazz.00073.wav  \n",
            "  inflating: /content/genres/genres_original/jazz/jazz.00074.wav  \n",
            "  inflating: /content/genres/genres_original/jazz/jazz.00075.wav  \n",
            "  inflating: /content/genres/genres_original/jazz/jazz.00076.wav  \n",
            "  inflating: /content/genres/genres_original/jazz/jazz.00077.wav  \n",
            "  inflating: /content/genres/genres_original/jazz/jazz.00078.wav  \n",
            "  inflating: /content/genres/genres_original/jazz/jazz.00079.wav  \n",
            "  inflating: /content/genres/genres_original/jazz/jazz.00080.wav  \n",
            "  inflating: /content/genres/genres_original/jazz/jazz.00081.wav  \n",
            "  inflating: /content/genres/genres_original/jazz/jazz.00082.wav  \n",
            "  inflating: /content/genres/genres_original/jazz/jazz.00083.wav  \n",
            "  inflating: /content/genres/genres_original/jazz/jazz.00084.wav  \n",
            "  inflating: /content/genres/genres_original/jazz/jazz.00085.wav  \n",
            "  inflating: /content/genres/genres_original/jazz/jazz.00086.wav  \n",
            "  inflating: /content/genres/genres_original/jazz/jazz.00087.wav  \n",
            "  inflating: /content/genres/genres_original/jazz/jazz.00088.wav  \n",
            "  inflating: /content/genres/genres_original/jazz/jazz.00089.wav  \n",
            "  inflating: /content/genres/genres_original/jazz/jazz.00090.wav  \n",
            "  inflating: /content/genres/genres_original/jazz/jazz.00091.wav  \n",
            "  inflating: /content/genres/genres_original/jazz/jazz.00092.wav  \n",
            "  inflating: /content/genres/genres_original/jazz/jazz.00093.wav  \n",
            "  inflating: /content/genres/genres_original/jazz/jazz.00094.wav  \n",
            "  inflating: /content/genres/genres_original/jazz/jazz.00095.wav  \n",
            "  inflating: /content/genres/genres_original/jazz/jazz.00096.wav  \n",
            "  inflating: /content/genres/genres_original/jazz/jazz.00097.wav  \n",
            "  inflating: /content/genres/genres_original/jazz/jazz.00098.wav  \n",
            "  inflating: /content/genres/genres_original/jazz/jazz.00099.wav  \n",
            "   creating: /content/genres/genres_original/metal/\n",
            "  inflating: /content/genres/genres_original/metal/metal.00000.wav  \n",
            "  inflating: /content/genres/genres_original/metal/metal.00001.wav  \n",
            "  inflating: /content/genres/genres_original/metal/metal.00002.wav  \n",
            "  inflating: /content/genres/genres_original/metal/metal.00003.wav  \n",
            "  inflating: /content/genres/genres_original/metal/metal.00004.wav  \n",
            "  inflating: /content/genres/genres_original/metal/metal.00005.wav  \n",
            "  inflating: /content/genres/genres_original/metal/metal.00006.wav  \n",
            "  inflating: /content/genres/genres_original/metal/metal.00007.wav  \n",
            "  inflating: /content/genres/genres_original/metal/metal.00008.wav  \n",
            "  inflating: /content/genres/genres_original/metal/metal.00009.wav  \n",
            "  inflating: /content/genres/genres_original/metal/metal.00010.wav  \n",
            "  inflating: /content/genres/genres_original/metal/metal.00011.wav  \n",
            "  inflating: /content/genres/genres_original/metal/metal.00012.wav  \n",
            "  inflating: /content/genres/genres_original/metal/metal.00013.wav  \n",
            "  inflating: /content/genres/genres_original/metal/metal.00014.wav  \n",
            "  inflating: /content/genres/genres_original/metal/metal.00015.wav  \n",
            "  inflating: /content/genres/genres_original/metal/metal.00016.wav  \n",
            "  inflating: /content/genres/genres_original/metal/metal.00017.wav  \n",
            "  inflating: /content/genres/genres_original/metal/metal.00018.wav  \n",
            "  inflating: /content/genres/genres_original/metal/metal.00019.wav  \n",
            "  inflating: /content/genres/genres_original/metal/metal.00020.wav  \n",
            "  inflating: /content/genres/genres_original/metal/metal.00021.wav  \n",
            "  inflating: /content/genres/genres_original/metal/metal.00022.wav  \n",
            "  inflating: /content/genres/genres_original/metal/metal.00023.wav  \n",
            "  inflating: /content/genres/genres_original/metal/metal.00024.wav  \n",
            "  inflating: /content/genres/genres_original/metal/metal.00025.wav  \n",
            "  inflating: /content/genres/genres_original/metal/metal.00026.wav  \n",
            "  inflating: /content/genres/genres_original/metal/metal.00027.wav  \n",
            "  inflating: /content/genres/genres_original/metal/metal.00028.wav  \n",
            "  inflating: /content/genres/genres_original/metal/metal.00029.wav  \n",
            "  inflating: /content/genres/genres_original/metal/metal.00030.wav  \n",
            "  inflating: /content/genres/genres_original/metal/metal.00031.wav  \n",
            "  inflating: /content/genres/genres_original/metal/metal.00032.wav  \n",
            "  inflating: /content/genres/genres_original/metal/metal.00033.wav  \n",
            "  inflating: /content/genres/genres_original/metal/metal.00034.wav  \n",
            "  inflating: /content/genres/genres_original/metal/metal.00035.wav  \n",
            "  inflating: /content/genres/genres_original/metal/metal.00036.wav  \n",
            "  inflating: /content/genres/genres_original/metal/metal.00037.wav  \n",
            "  inflating: /content/genres/genres_original/metal/metal.00038.wav  \n",
            "  inflating: /content/genres/genres_original/metal/metal.00039.wav  \n",
            "  inflating: /content/genres/genres_original/metal/metal.00040.wav  \n",
            "  inflating: /content/genres/genres_original/metal/metal.00041.wav  \n",
            "  inflating: /content/genres/genres_original/metal/metal.00042.wav  \n",
            "  inflating: /content/genres/genres_original/metal/metal.00043.wav  \n",
            "  inflating: /content/genres/genres_original/metal/metal.00044.wav  \n",
            "  inflating: /content/genres/genres_original/metal/metal.00045.wav  \n",
            "  inflating: /content/genres/genres_original/metal/metal.00046.wav  \n",
            "  inflating: /content/genres/genres_original/metal/metal.00047.wav  \n",
            "  inflating: /content/genres/genres_original/metal/metal.00048.wav  \n",
            "  inflating: /content/genres/genres_original/metal/metal.00049.wav  \n",
            "  inflating: /content/genres/genres_original/metal/metal.00050.wav  \n",
            "  inflating: /content/genres/genres_original/metal/metal.00051.wav  \n",
            "  inflating: /content/genres/genres_original/metal/metal.00052.wav  \n",
            "  inflating: /content/genres/genres_original/metal/metal.00053.wav  \n",
            "  inflating: /content/genres/genres_original/metal/metal.00054.wav  \n",
            "  inflating: /content/genres/genres_original/metal/metal.00055.wav  \n",
            "  inflating: /content/genres/genres_original/metal/metal.00056.wav  \n",
            "  inflating: /content/genres/genres_original/metal/metal.00057.wav  \n",
            "  inflating: /content/genres/genres_original/metal/metal.00058.wav  \n",
            "  inflating: /content/genres/genres_original/metal/metal.00059.wav  \n",
            "  inflating: /content/genres/genres_original/metal/metal.00060.wav  \n",
            "  inflating: /content/genres/genres_original/metal/metal.00061.wav  \n",
            "  inflating: /content/genres/genres_original/metal/metal.00062.wav  \n",
            "  inflating: /content/genres/genres_original/metal/metal.00063.wav  \n",
            "  inflating: /content/genres/genres_original/metal/metal.00064.wav  \n",
            "  inflating: /content/genres/genres_original/metal/metal.00065.wav  \n",
            "  inflating: /content/genres/genres_original/metal/metal.00066.wav  \n",
            "  inflating: /content/genres/genres_original/metal/metal.00067.wav  \n",
            "  inflating: /content/genres/genres_original/metal/metal.00068.wav  \n",
            "  inflating: /content/genres/genres_original/metal/metal.00069.wav  \n",
            "  inflating: /content/genres/genres_original/metal/metal.00070.wav  \n",
            "  inflating: /content/genres/genres_original/metal/metal.00071.wav  \n",
            "  inflating: /content/genres/genres_original/metal/metal.00072.wav  \n",
            "  inflating: /content/genres/genres_original/metal/metal.00073.wav  \n",
            "  inflating: /content/genres/genres_original/metal/metal.00074.wav  \n",
            "  inflating: /content/genres/genres_original/metal/metal.00075.wav  \n",
            "  inflating: /content/genres/genres_original/metal/metal.00076.wav  \n",
            "  inflating: /content/genres/genres_original/metal/metal.00077.wav  \n",
            "  inflating: /content/genres/genres_original/metal/metal.00078.wav  \n",
            "  inflating: /content/genres/genres_original/metal/metal.00079.wav  \n",
            "  inflating: /content/genres/genres_original/metal/metal.00080.wav  \n",
            "  inflating: /content/genres/genres_original/metal/metal.00081.wav  \n",
            "  inflating: /content/genres/genres_original/metal/metal.00082.wav  \n",
            "  inflating: /content/genres/genres_original/metal/metal.00083.wav  \n",
            "  inflating: /content/genres/genres_original/metal/metal.00084.wav  \n",
            "  inflating: /content/genres/genres_original/metal/metal.00085.wav  \n",
            "  inflating: /content/genres/genres_original/metal/metal.00086.wav  \n",
            "  inflating: /content/genres/genres_original/metal/metal.00087.wav  \n",
            "  inflating: /content/genres/genres_original/metal/metal.00088.wav  \n",
            "  inflating: /content/genres/genres_original/metal/metal.00089.wav  \n",
            "  inflating: /content/genres/genres_original/metal/metal.00090.wav  \n",
            "  inflating: /content/genres/genres_original/metal/metal.00091.wav  \n",
            "  inflating: /content/genres/genres_original/metal/metal.00092.wav  \n",
            "  inflating: /content/genres/genres_original/metal/metal.00093.wav  \n",
            "  inflating: /content/genres/genres_original/metal/metal.00094.wav  \n",
            "  inflating: /content/genres/genres_original/metal/metal.00095.wav  \n",
            "  inflating: /content/genres/genres_original/metal/metal.00096.wav  \n",
            "  inflating: /content/genres/genres_original/metal/metal.00097.wav  \n",
            "  inflating: /content/genres/genres_original/metal/metal.00098.wav  \n",
            "  inflating: /content/genres/genres_original/metal/metal.00099.wav  \n",
            "   creating: /content/genres/genres_original/pop/\n",
            "  inflating: /content/genres/genres_original/pop/pop.00000.wav  \n",
            "  inflating: /content/genres/genres_original/pop/pop.00001.wav  \n",
            "  inflating: /content/genres/genres_original/pop/pop.00002.wav  \n",
            "  inflating: /content/genres/genres_original/pop/pop.00003.wav  \n",
            "  inflating: /content/genres/genres_original/pop/pop.00004.wav  \n",
            "  inflating: /content/genres/genres_original/pop/pop.00005.wav  \n",
            "  inflating: /content/genres/genres_original/pop/pop.00006.wav  \n",
            "  inflating: /content/genres/genres_original/pop/pop.00007.wav  \n",
            "  inflating: /content/genres/genres_original/pop/pop.00008.wav  \n",
            "  inflating: /content/genres/genres_original/pop/pop.00009.wav  \n",
            "  inflating: /content/genres/genres_original/pop/pop.00010.wav  \n",
            "  inflating: /content/genres/genres_original/pop/pop.00011.wav  \n",
            "  inflating: /content/genres/genres_original/pop/pop.00012.wav  \n",
            "  inflating: /content/genres/genres_original/pop/pop.00013.wav  \n",
            "  inflating: /content/genres/genres_original/pop/pop.00014.wav  \n",
            "  inflating: /content/genres/genres_original/pop/pop.00015.wav  \n",
            "  inflating: /content/genres/genres_original/pop/pop.00016.wav  \n",
            "  inflating: /content/genres/genres_original/pop/pop.00017.wav  \n",
            "  inflating: /content/genres/genres_original/pop/pop.00018.wav  \n",
            "  inflating: /content/genres/genres_original/pop/pop.00019.wav  \n",
            "  inflating: /content/genres/genres_original/pop/pop.00020.wav  \n",
            "  inflating: /content/genres/genres_original/pop/pop.00021.wav  \n",
            "  inflating: /content/genres/genres_original/pop/pop.00022.wav  \n",
            "  inflating: /content/genres/genres_original/pop/pop.00023.wav  \n",
            "  inflating: /content/genres/genres_original/pop/pop.00024.wav  \n",
            "  inflating: /content/genres/genres_original/pop/pop.00025.wav  \n",
            "  inflating: /content/genres/genres_original/pop/pop.00026.wav  \n",
            "  inflating: /content/genres/genres_original/pop/pop.00027.wav  \n",
            "  inflating: /content/genres/genres_original/pop/pop.00028.wav  \n",
            "  inflating: /content/genres/genres_original/pop/pop.00029.wav  \n",
            "  inflating: /content/genres/genres_original/pop/pop.00030.wav  \n",
            "  inflating: /content/genres/genres_original/pop/pop.00031.wav  \n",
            "  inflating: /content/genres/genres_original/pop/pop.00032.wav  \n",
            "  inflating: /content/genres/genres_original/pop/pop.00033.wav  \n",
            "  inflating: /content/genres/genres_original/pop/pop.00034.wav  \n",
            "  inflating: /content/genres/genres_original/pop/pop.00035.wav  \n",
            "  inflating: /content/genres/genres_original/pop/pop.00036.wav  \n",
            "  inflating: /content/genres/genres_original/pop/pop.00037.wav  \n",
            "  inflating: /content/genres/genres_original/pop/pop.00038.wav  \n",
            "  inflating: /content/genres/genres_original/pop/pop.00039.wav  \n",
            "  inflating: /content/genres/genres_original/pop/pop.00040.wav  \n",
            "  inflating: /content/genres/genres_original/pop/pop.00041.wav  \n",
            "  inflating: /content/genres/genres_original/pop/pop.00042.wav  \n",
            "  inflating: /content/genres/genres_original/pop/pop.00043.wav  \n",
            "  inflating: /content/genres/genres_original/pop/pop.00044.wav  \n",
            "  inflating: /content/genres/genres_original/pop/pop.00045.wav  \n",
            "  inflating: /content/genres/genres_original/pop/pop.00046.wav  \n",
            "  inflating: /content/genres/genres_original/pop/pop.00047.wav  \n",
            "  inflating: /content/genres/genres_original/pop/pop.00048.wav  \n",
            "  inflating: /content/genres/genres_original/pop/pop.00049.wav  \n",
            "  inflating: /content/genres/genres_original/pop/pop.00050.wav  \n",
            "  inflating: /content/genres/genres_original/pop/pop.00051.wav  \n",
            "  inflating: /content/genres/genres_original/pop/pop.00052.wav  \n",
            "  inflating: /content/genres/genres_original/pop/pop.00053.wav  \n",
            "  inflating: /content/genres/genres_original/pop/pop.00054.wav  \n",
            "  inflating: /content/genres/genres_original/pop/pop.00055.wav  \n",
            "  inflating: /content/genres/genres_original/pop/pop.00056.wav  \n",
            "  inflating: /content/genres/genres_original/pop/pop.00057.wav  \n",
            "  inflating: /content/genres/genres_original/pop/pop.00058.wav  \n",
            "  inflating: /content/genres/genres_original/pop/pop.00059.wav  \n",
            "  inflating: /content/genres/genres_original/pop/pop.00060.wav  \n",
            "  inflating: /content/genres/genres_original/pop/pop.00061.wav  \n",
            "  inflating: /content/genres/genres_original/pop/pop.00062.wav  \n",
            "  inflating: /content/genres/genres_original/pop/pop.00063.wav  \n",
            "  inflating: /content/genres/genres_original/pop/pop.00064.wav  \n",
            "  inflating: /content/genres/genres_original/pop/pop.00065.wav  \n",
            "  inflating: /content/genres/genres_original/pop/pop.00066.wav  \n",
            "  inflating: /content/genres/genres_original/pop/pop.00067.wav  \n",
            "  inflating: /content/genres/genres_original/pop/pop.00068.wav  \n",
            "  inflating: /content/genres/genres_original/pop/pop.00069.wav  \n",
            "  inflating: /content/genres/genres_original/pop/pop.00070.wav  \n",
            "  inflating: /content/genres/genres_original/pop/pop.00071.wav  \n",
            "  inflating: /content/genres/genres_original/pop/pop.00072.wav  \n",
            "  inflating: /content/genres/genres_original/pop/pop.00073.wav  \n",
            "  inflating: /content/genres/genres_original/pop/pop.00074.wav  \n",
            "  inflating: /content/genres/genres_original/pop/pop.00075.wav  \n",
            "  inflating: /content/genres/genres_original/pop/pop.00076.wav  \n",
            "  inflating: /content/genres/genres_original/pop/pop.00077.wav  \n",
            "  inflating: /content/genres/genres_original/pop/pop.00078.wav  \n",
            "  inflating: /content/genres/genres_original/pop/pop.00079.wav  \n",
            "  inflating: /content/genres/genres_original/pop/pop.00080.wav  \n",
            "  inflating: /content/genres/genres_original/pop/pop.00081.wav  \n",
            "  inflating: /content/genres/genres_original/pop/pop.00082.wav  \n",
            "  inflating: /content/genres/genres_original/pop/pop.00083.wav  \n",
            "  inflating: /content/genres/genres_original/pop/pop.00084.wav  \n",
            "  inflating: /content/genres/genres_original/pop/pop.00085.wav  \n",
            "  inflating: /content/genres/genres_original/pop/pop.00086.wav  \n",
            "  inflating: /content/genres/genres_original/pop/pop.00087.wav  \n",
            "  inflating: /content/genres/genres_original/pop/pop.00088.wav  \n",
            "  inflating: /content/genres/genres_original/pop/pop.00089.wav  \n",
            "  inflating: /content/genres/genres_original/pop/pop.00090.wav  \n",
            "  inflating: /content/genres/genres_original/pop/pop.00091.wav  \n",
            "  inflating: /content/genres/genres_original/pop/pop.00092.wav  \n",
            "  inflating: /content/genres/genres_original/pop/pop.00093.wav  \n",
            "  inflating: /content/genres/genres_original/pop/pop.00094.wav  \n",
            "  inflating: /content/genres/genres_original/pop/pop.00095.wav  \n",
            "  inflating: /content/genres/genres_original/pop/pop.00096.wav  \n",
            "  inflating: /content/genres/genres_original/pop/pop.00097.wav  \n",
            "  inflating: /content/genres/genres_original/pop/pop.00098.wav  \n",
            "  inflating: /content/genres/genres_original/pop/pop.00099.wav  \n",
            "   creating: /content/genres/genres_original/reggae/\n",
            "  inflating: /content/genres/genres_original/reggae/reggae.00000.wav  \n",
            "  inflating: /content/genres/genres_original/reggae/reggae.00001.wav  \n",
            "  inflating: /content/genres/genres_original/reggae/reggae.00002.wav  \n",
            "  inflating: /content/genres/genres_original/reggae/reggae.00003.wav  \n",
            "  inflating: /content/genres/genres_original/reggae/reggae.00004.wav  \n",
            "  inflating: /content/genres/genres_original/reggae/reggae.00005.wav  \n",
            "  inflating: /content/genres/genres_original/reggae/reggae.00006.wav  \n",
            "  inflating: /content/genres/genres_original/reggae/reggae.00007.wav  \n",
            "  inflating: /content/genres/genres_original/reggae/reggae.00008.wav  \n",
            "  inflating: /content/genres/genres_original/reggae/reggae.00009.wav  \n",
            "  inflating: /content/genres/genres_original/reggae/reggae.00010.wav  \n",
            "  inflating: /content/genres/genres_original/reggae/reggae.00011.wav  \n",
            "  inflating: /content/genres/genres_original/reggae/reggae.00012.wav  \n",
            "  inflating: /content/genres/genres_original/reggae/reggae.00013.wav  \n",
            "  inflating: /content/genres/genres_original/reggae/reggae.00014.wav  \n",
            "  inflating: /content/genres/genres_original/reggae/reggae.00015.wav  \n",
            "  inflating: /content/genres/genres_original/reggae/reggae.00016.wav  \n",
            "  inflating: /content/genres/genres_original/reggae/reggae.00017.wav  \n",
            "  inflating: /content/genres/genres_original/reggae/reggae.00018.wav  \n",
            "  inflating: /content/genres/genres_original/reggae/reggae.00019.wav  \n",
            "  inflating: /content/genres/genres_original/reggae/reggae.00020.wav  \n",
            "  inflating: /content/genres/genres_original/reggae/reggae.00021.wav  \n",
            "  inflating: /content/genres/genres_original/reggae/reggae.00022.wav  \n",
            "  inflating: /content/genres/genres_original/reggae/reggae.00023.wav  \n",
            "  inflating: /content/genres/genres_original/reggae/reggae.00024.wav  \n",
            "  inflating: /content/genres/genres_original/reggae/reggae.00025.wav  \n",
            "  inflating: /content/genres/genres_original/reggae/reggae.00026.wav  \n",
            "  inflating: /content/genres/genres_original/reggae/reggae.00027.wav  \n",
            "  inflating: /content/genres/genres_original/reggae/reggae.00028.wav  \n",
            "  inflating: /content/genres/genres_original/reggae/reggae.00029.wav  \n",
            "  inflating: /content/genres/genres_original/reggae/reggae.00030.wav  \n",
            "  inflating: /content/genres/genres_original/reggae/reggae.00031.wav  \n",
            "  inflating: /content/genres/genres_original/reggae/reggae.00032.wav  \n",
            "  inflating: /content/genres/genres_original/reggae/reggae.00033.wav  \n",
            "  inflating: /content/genres/genres_original/reggae/reggae.00034.wav  \n",
            "  inflating: /content/genres/genres_original/reggae/reggae.00035.wav  \n",
            "  inflating: /content/genres/genres_original/reggae/reggae.00036.wav  \n",
            "  inflating: /content/genres/genres_original/reggae/reggae.00037.wav  \n",
            "  inflating: /content/genres/genres_original/reggae/reggae.00038.wav  \n",
            "  inflating: /content/genres/genres_original/reggae/reggae.00039.wav  \n",
            "  inflating: /content/genres/genres_original/reggae/reggae.00040.wav  \n",
            "  inflating: /content/genres/genres_original/reggae/reggae.00041.wav  \n",
            "  inflating: /content/genres/genres_original/reggae/reggae.00042.wav  \n",
            "  inflating: /content/genres/genres_original/reggae/reggae.00043.wav  \n",
            "  inflating: /content/genres/genres_original/reggae/reggae.00044.wav  \n",
            "  inflating: /content/genres/genres_original/reggae/reggae.00045.wav  \n",
            "  inflating: /content/genres/genres_original/reggae/reggae.00046.wav  \n",
            "  inflating: /content/genres/genres_original/reggae/reggae.00047.wav  \n",
            "  inflating: /content/genres/genres_original/reggae/reggae.00048.wav  \n",
            "  inflating: /content/genres/genres_original/reggae/reggae.00049.wav  \n",
            "  inflating: /content/genres/genres_original/reggae/reggae.00050.wav  \n",
            "  inflating: /content/genres/genres_original/reggae/reggae.00051.wav  \n",
            "  inflating: /content/genres/genres_original/reggae/reggae.00052.wav  \n",
            "  inflating: /content/genres/genres_original/reggae/reggae.00053.wav  \n",
            "  inflating: /content/genres/genres_original/reggae/reggae.00054.wav  \n",
            "  inflating: /content/genres/genres_original/reggae/reggae.00055.wav  \n",
            "  inflating: /content/genres/genres_original/reggae/reggae.00056.wav  \n",
            "  inflating: /content/genres/genres_original/reggae/reggae.00057.wav  \n",
            "  inflating: /content/genres/genres_original/reggae/reggae.00058.wav  \n",
            "  inflating: /content/genres/genres_original/reggae/reggae.00059.wav  \n",
            "  inflating: /content/genres/genres_original/reggae/reggae.00060.wav  \n",
            "  inflating: /content/genres/genres_original/reggae/reggae.00061.wav  \n",
            "  inflating: /content/genres/genres_original/reggae/reggae.00062.wav  \n",
            "  inflating: /content/genres/genres_original/reggae/reggae.00063.wav  \n",
            "  inflating: /content/genres/genres_original/reggae/reggae.00064.wav  \n",
            "  inflating: /content/genres/genres_original/reggae/reggae.00065.wav  \n",
            "  inflating: /content/genres/genres_original/reggae/reggae.00066.wav  \n",
            "  inflating: /content/genres/genres_original/reggae/reggae.00067.wav  \n",
            "  inflating: /content/genres/genres_original/reggae/reggae.00068.wav  \n",
            "  inflating: /content/genres/genres_original/reggae/reggae.00069.wav  \n",
            "  inflating: /content/genres/genres_original/reggae/reggae.00070.wav  \n",
            "  inflating: /content/genres/genres_original/reggae/reggae.00071.wav  \n",
            "  inflating: /content/genres/genres_original/reggae/reggae.00072.wav  \n",
            "  inflating: /content/genres/genres_original/reggae/reggae.00073.wav  \n",
            "  inflating: /content/genres/genres_original/reggae/reggae.00074.wav  \n",
            "  inflating: /content/genres/genres_original/reggae/reggae.00075.wav  \n",
            "  inflating: /content/genres/genres_original/reggae/reggae.00076.wav  \n",
            "  inflating: /content/genres/genres_original/reggae/reggae.00077.wav  \n",
            "  inflating: /content/genres/genres_original/reggae/reggae.00078.wav  \n",
            "  inflating: /content/genres/genres_original/reggae/reggae.00079.wav  \n",
            "  inflating: /content/genres/genres_original/reggae/reggae.00080.wav  \n",
            "  inflating: /content/genres/genres_original/reggae/reggae.00081.wav  \n",
            "  inflating: /content/genres/genres_original/reggae/reggae.00082.wav  \n",
            "  inflating: /content/genres/genres_original/reggae/reggae.00083.wav  \n",
            "  inflating: /content/genres/genres_original/reggae/reggae.00084.wav  \n",
            "  inflating: /content/genres/genres_original/reggae/reggae.00085.wav  \n",
            "  inflating: /content/genres/genres_original/reggae/reggae.00086.wav  \n",
            "  inflating: /content/genres/genres_original/reggae/reggae.00087.wav  \n",
            "  inflating: /content/genres/genres_original/reggae/reggae.00088.wav  \n",
            "  inflating: /content/genres/genres_original/reggae/reggae.00089.wav  \n",
            "  inflating: /content/genres/genres_original/reggae/reggae.00090.wav  \n",
            "  inflating: /content/genres/genres_original/reggae/reggae.00091.wav  \n",
            "  inflating: /content/genres/genres_original/reggae/reggae.00092.wav  \n",
            "  inflating: /content/genres/genres_original/reggae/reggae.00093.wav  \n",
            "  inflating: /content/genres/genres_original/reggae/reggae.00094.wav  \n",
            "  inflating: /content/genres/genres_original/reggae/reggae.00095.wav  \n",
            "  inflating: /content/genres/genres_original/reggae/reggae.00096.wav  \n",
            "  inflating: /content/genres/genres_original/reggae/reggae.00097.wav  \n",
            "  inflating: /content/genres/genres_original/reggae/reggae.00098.wav  \n",
            "  inflating: /content/genres/genres_original/reggae/reggae.00099.wav  \n",
            "   creating: /content/genres/genres_original/rock/\n",
            "  inflating: /content/genres/genres_original/rock/rock.00000.wav  \n",
            "  inflating: /content/genres/genres_original/rock/rock.00001.wav  \n",
            "  inflating: /content/genres/genres_original/rock/rock.00002.wav  \n",
            "  inflating: /content/genres/genres_original/rock/rock.00003.wav  \n",
            "  inflating: /content/genres/genres_original/rock/rock.00004.wav  \n",
            "  inflating: /content/genres/genres_original/rock/rock.00005.wav  \n",
            "  inflating: /content/genres/genres_original/rock/rock.00006.wav  \n",
            "  inflating: /content/genres/genres_original/rock/rock.00007.wav  \n",
            "  inflating: /content/genres/genres_original/rock/rock.00008.wav  \n",
            "  inflating: /content/genres/genres_original/rock/rock.00009.wav  \n",
            "  inflating: /content/genres/genres_original/rock/rock.00010.wav  \n",
            "  inflating: /content/genres/genres_original/rock/rock.00011.wav  \n",
            "  inflating: /content/genres/genres_original/rock/rock.00012.wav  \n",
            "  inflating: /content/genres/genres_original/rock/rock.00013.wav  \n",
            "  inflating: /content/genres/genres_original/rock/rock.00014.wav  \n",
            "  inflating: /content/genres/genres_original/rock/rock.00015.wav  \n",
            "  inflating: /content/genres/genres_original/rock/rock.00016.wav  \n",
            "  inflating: /content/genres/genres_original/rock/rock.00017.wav  \n",
            "  inflating: /content/genres/genres_original/rock/rock.00018.wav  \n",
            "  inflating: /content/genres/genres_original/rock/rock.00019.wav  \n",
            "  inflating: /content/genres/genres_original/rock/rock.00020.wav  \n",
            "  inflating: /content/genres/genres_original/rock/rock.00021.wav  \n",
            "  inflating: /content/genres/genres_original/rock/rock.00022.wav  \n",
            "  inflating: /content/genres/genres_original/rock/rock.00023.wav  \n",
            "  inflating: /content/genres/genres_original/rock/rock.00024.wav  \n",
            "  inflating: /content/genres/genres_original/rock/rock.00025.wav  \n",
            "  inflating: /content/genres/genres_original/rock/rock.00026.wav  \n",
            "  inflating: /content/genres/genres_original/rock/rock.00027.wav  \n",
            "  inflating: /content/genres/genres_original/rock/rock.00028.wav  \n",
            "  inflating: /content/genres/genres_original/rock/rock.00029.wav  \n",
            "  inflating: /content/genres/genres_original/rock/rock.00030.wav  \n",
            "  inflating: /content/genres/genres_original/rock/rock.00031.wav  \n",
            "  inflating: /content/genres/genres_original/rock/rock.00032.wav  \n",
            "  inflating: /content/genres/genres_original/rock/rock.00033.wav  \n",
            "  inflating: /content/genres/genres_original/rock/rock.00034.wav  \n",
            "  inflating: /content/genres/genres_original/rock/rock.00035.wav  \n",
            "  inflating: /content/genres/genres_original/rock/rock.00036.wav  \n",
            "  inflating: /content/genres/genres_original/rock/rock.00037.wav  \n",
            "  inflating: /content/genres/genres_original/rock/rock.00038.wav  \n",
            "  inflating: /content/genres/genres_original/rock/rock.00039.wav  \n",
            "  inflating: /content/genres/genres_original/rock/rock.00040.wav  \n",
            "  inflating: /content/genres/genres_original/rock/rock.00041.wav  \n",
            "  inflating: /content/genres/genres_original/rock/rock.00042.wav  \n",
            "  inflating: /content/genres/genres_original/rock/rock.00043.wav  \n",
            "  inflating: /content/genres/genres_original/rock/rock.00044.wav  \n",
            "  inflating: /content/genres/genres_original/rock/rock.00045.wav  \n",
            "  inflating: /content/genres/genres_original/rock/rock.00046.wav  \n",
            "  inflating: /content/genres/genres_original/rock/rock.00047.wav  \n",
            "  inflating: /content/genres/genres_original/rock/rock.00048.wav  \n",
            "  inflating: /content/genres/genres_original/rock/rock.00049.wav  \n",
            "  inflating: /content/genres/genres_original/rock/rock.00050.wav  \n",
            "  inflating: /content/genres/genres_original/rock/rock.00051.wav  \n",
            "  inflating: /content/genres/genres_original/rock/rock.00052.wav  \n",
            "  inflating: /content/genres/genres_original/rock/rock.00053.wav  \n",
            "  inflating: /content/genres/genres_original/rock/rock.00054.wav  \n",
            "  inflating: /content/genres/genres_original/rock/rock.00055.wav  \n",
            "  inflating: /content/genres/genres_original/rock/rock.00056.wav  \n",
            "  inflating: /content/genres/genres_original/rock/rock.00057.wav  \n",
            "  inflating: /content/genres/genres_original/rock/rock.00058.wav  \n",
            "  inflating: /content/genres/genres_original/rock/rock.00059.wav  \n",
            "  inflating: /content/genres/genres_original/rock/rock.00060.wav  \n",
            "  inflating: /content/genres/genres_original/rock/rock.00061.wav  \n",
            "  inflating: /content/genres/genres_original/rock/rock.00062.wav  \n",
            "  inflating: /content/genres/genres_original/rock/rock.00063.wav  \n",
            "  inflating: /content/genres/genres_original/rock/rock.00064.wav  \n",
            "  inflating: /content/genres/genres_original/rock/rock.00065.wav  \n",
            "  inflating: /content/genres/genres_original/rock/rock.00066.wav  \n",
            "  inflating: /content/genres/genres_original/rock/rock.00067.wav  \n",
            "  inflating: /content/genres/genres_original/rock/rock.00068.wav  \n",
            "  inflating: /content/genres/genres_original/rock/rock.00069.wav  \n",
            "  inflating: /content/genres/genres_original/rock/rock.00070.wav  \n",
            "  inflating: /content/genres/genres_original/rock/rock.00071.wav  \n",
            "  inflating: /content/genres/genres_original/rock/rock.00072.wav  \n",
            "  inflating: /content/genres/genres_original/rock/rock.00073.wav  \n",
            "  inflating: /content/genres/genres_original/rock/rock.00074.wav  \n",
            "  inflating: /content/genres/genres_original/rock/rock.00075.wav  \n",
            "  inflating: /content/genres/genres_original/rock/rock.00076.wav  \n",
            "  inflating: /content/genres/genres_original/rock/rock.00077.wav  \n",
            "  inflating: /content/genres/genres_original/rock/rock.00078.wav  \n",
            "  inflating: /content/genres/genres_original/rock/rock.00079.wav  \n",
            "  inflating: /content/genres/genres_original/rock/rock.00080.wav  \n",
            "  inflating: /content/genres/genres_original/rock/rock.00081.wav  \n",
            "  inflating: /content/genres/genres_original/rock/rock.00082.wav  \n",
            "  inflating: /content/genres/genres_original/rock/rock.00083.wav  \n",
            "  inflating: /content/genres/genres_original/rock/rock.00084.wav  \n",
            "  inflating: /content/genres/genres_original/rock/rock.00085.wav  \n",
            "  inflating: /content/genres/genres_original/rock/rock.00086.wav  \n",
            "  inflating: /content/genres/genres_original/rock/rock.00087.wav  \n",
            "  inflating: /content/genres/genres_original/rock/rock.00088.wav  \n",
            "  inflating: /content/genres/genres_original/rock/rock.00089.wav  \n",
            "  inflating: /content/genres/genres_original/rock/rock.00090.wav  \n",
            "  inflating: /content/genres/genres_original/rock/rock.00091.wav  \n",
            "  inflating: /content/genres/genres_original/rock/rock.00092.wav  \n",
            "  inflating: /content/genres/genres_original/rock/rock.00093.wav  \n",
            "  inflating: /content/genres/genres_original/rock/rock.00094.wav  \n",
            "  inflating: /content/genres/genres_original/rock/rock.00095.wav  \n",
            "  inflating: /content/genres/genres_original/rock/rock.00096.wav  \n",
            "  inflating: /content/genres/genres_original/rock/rock.00097.wav  \n",
            "  inflating: /content/genres/genres_original/rock/rock.00098.wav  \n",
            "  inflating: /content/genres/genres_original/rock/rock.00099.wav  \n"
          ]
        }
      ]
    },
    {
      "cell_type": "code",
      "source": [
        "DATA_DIR = \"/content/genres/genres_original\"   # <-- dataset folder path (genres/{blues,rock,...})\n",
        "GENRES = ['blues','classical','country','disco','hiphop','jazz','metal','pop','reggae','rock']\n",
        "\n",
        "SR = 22050           # sampling rate\n",
        "DURATION = 30        # seconds to use per clip\n",
        "N_MFCC = 40\n",
        "HOP_LENGTH = 512\n",
        "MAX_FRAMES = int(np.ceil(SR * DURATION / HOP_LENGTH))  # around 1293 for 30s\n",
        "DEVICE = torch.device(\"cuda\" if torch.cuda.is_available() else \"cpu\")\n",
        "\n",
        "BATCH_SIZE = 32\n",
        "NUM_EPOCHS = 25\n",
        "LEARNING_RATE = 1e-3\n",
        "WEIGHT_DECAY = 1e-5\n",
        "PATIENCE = 6        # early stopping patience on val loss\n",
        "SEED = 42\n",
        "\n",
        "# reproducibility\n",
        "random.seed(SEED)\n",
        "np.random.seed(SEED)\n",
        "torch.manual_seed(SEED)\n",
        "if DEVICE.type == 'cuda':\n",
        "    torch.cuda.manual_seed_all(SEED)\n"
      ],
      "metadata": {
        "id": "Vs_MKjHNdsKO"
      },
      "execution_count": 28,
      "outputs": []
    },
    {
      "cell_type": "code",
      "source": [
        "for root, dirs, files in os.walk(DATA_DIR):\n",
        "    for file in files:\n",
        "        if file.endswith(\".wav\"):\n",
        "            path = os.path.join(root, file)\n",
        "            new_path = path.replace(\".wav\", \"_fixed.wav\")\n",
        "            os.system(f\"ffmpeg -y -i '{path}' -acodec pcm_s16le -ar 44100 '{new_path}'\")\n"
      ],
      "metadata": {
        "id": "7vPeXLA54u__"
      },
      "execution_count": 29,
      "outputs": []
    },
    {
      "cell_type": "code",
      "source": [
        "def augment_audio(y, sr):\n",
        "    # random small augmentations: pitch shift, time stretch, noise\n",
        "    # apply each augmentation with some probability\n",
        "    if random.random() < 0.3:\n",
        "        # pitch shift by -2..2 semitones\n",
        "        n_steps = random.uniform(-2, 2)\n",
        "        try:\n",
        "            y = librosa.effects.pitch_shift(y, sr, n_steps)\n",
        "        except Exception:\n",
        "            pass\n",
        "    if random.random() < 0.3:\n",
        "        # time stretch 0.9..1.1 (keep length approx; we'll trim/pad later)\n",
        "        rate = random.uniform(0.9, 1.1)\n",
        "        try:\n",
        "            y = librosa.effects.time_stretch(y, rate)\n",
        "        except Exception:\n",
        "            pass\n",
        "    if random.random() < 0.3:\n",
        "        # add small gaussian noise\n",
        "        noise_amp = 0.005 * np.random.uniform() * np.max(y)\n",
        "        y = y + noise_amp * np.random.normal(size=y.shape[0])\n",
        "    return y"
      ],
      "metadata": {
        "id": "0OjObi0wdwwV"
      },
      "execution_count": 31,
      "outputs": []
    },
    {
      "cell_type": "code",
      "source": [
        "def load_and_extract_mfcc(path, augment=False):\n",
        "    # load full or truncated to DURATION\n",
        "    try:\n",
        "        y, sr = librosa.load(path, sr=SR, duration=DURATION)\n",
        "    except Exception as e:\n",
        "        raise e\n",
        "    # if too short, pad\n",
        "    if len(y) < SR * DURATION:\n",
        "        pad_len = SR * DURATION - len(y)\n",
        "        y = np.pad(y, (0, int(pad_len)), mode='constant')\n",
        "    # augmentation\n",
        "    if augment:\n",
        "        y = augment_audio(y, sr)\n",
        "        # after augment we may have different length -> ensure trim/pad\n",
        "        if len(y) < SR * DURATION:\n",
        "            y = np.pad(y, (0, int(SR * DURATION - len(y))), mode='constant')\n",
        "        if len(y) > SR * DURATION:\n",
        "            y = y[:SR * DURATION]\n",
        "    # compute MFCC (shape: n_mfcc x t)\n",
        "    mfcc = librosa.feature.mfcc(y=y, sr=sr, n_mfcc=N_MFCC, hop_length=HOP_LENGTH)\n",
        "    # transpose -> (time_steps, n_mfcc)\n",
        "    mfcc = mfcc.T.astype(np.float32)\n",
        "    # pad or truncate to MAX_FRAMES\n",
        "    if mfcc.shape[0] < MAX_FRAMES:\n",
        "        pad_width = MAX_FRAMES - mfcc.shape[0]\n",
        "        mfcc = np.pad(mfcc, ((0, pad_width), (0,0)), mode='constant')\n",
        "    elif mfcc.shape[0] > MAX_FRAMES:\n",
        "        mfcc = mfcc[:MAX_FRAMES, :]\n",
        "    return mfcc  # shape: (MAX_FRAMES, N_MFCC)\n"
      ],
      "metadata": {
        "id": "gQUF2yKrdznF"
      },
      "execution_count": 32,
      "outputs": []
    },
    {
      "cell_type": "code",
      "source": [
        "class GTZANDataset(Dataset):\n",
        "    def __init__(self, filepaths, labels, augment=False):\n",
        "        self.filepaths = filepaths\n",
        "        self.labels = labels\n",
        "        self.augment = augment\n",
        "\n",
        "    def __len__(self):\n",
        "        return len(self.filepaths)\n",
        "\n",
        "    def __getitem__(self, idx):\n",
        "        path = self.filepaths[idx]\n",
        "        label = self.labels[idx]\n",
        "        try:\n",
        "            mfcc = load_and_extract_mfcc(path, augment=self.augment)\n",
        "        except Exception as e:\n",
        "            print(f\"⚠️ Skipping file: {path} ({e})\")\n",
        "            # return a random valid sample instead\n",
        "            idx = random.randint(0, len(self.filepaths)-1)\n",
        "            return self.__getitem__(idx)\n",
        "        mfcc = mfcc.T  # (N_MFCC, MAX_FRAMES)\n",
        "        return torch.from_numpy(mfcc), torch.tensor(label, dtype=torch.long)"
      ],
      "metadata": {
        "id": "ZGqX8KX5d442"
      },
      "execution_count": 33,
      "outputs": []
    },
    {
      "cell_type": "code",
      "source": [
        "class ConvLSTMGenre(nn.Module):\n",
        "    def __init__(self, n_mfcc=N_MFCC, hidden_size=128, n_classes=10, n_lstm_layers=2, dropout=0.3):\n",
        "        super().__init__()\n",
        "        # CNN extractor on frequency axis per time-slice using Conv1d across time\n",
        "        # Input: (batch, n_mfcc, time)\n",
        "        self.conv1 = nn.Conv1d(in_channels=n_mfcc, out_channels=128, kernel_size=5, padding=2)\n",
        "        self.bn1 = nn.BatchNorm1d(128)\n",
        "        self.pool1 = nn.MaxPool1d(kernel_size=2)  # halves time dimension\n",
        "\n",
        "        self.conv2 = nn.Conv1d(128, 256, kernel_size=5, padding=2)\n",
        "        self.bn2 = nn.BatchNorm1d(256)\n",
        "        self.pool2 = nn.MaxPool1d(kernel_size=2)  # halves again\n",
        "\n",
        "        # after conv/pool, time dimension reduced: MAX_FRAMES / 4 approx\n",
        "        # LSTM expects (batch, seq_len, feat); we'll transpose appropriately\n",
        "        self.hidden_size = hidden_size\n",
        "        self.lstm = nn.LSTM(input_size=256, hidden_size=hidden_size, num_layers=n_lstm_layers,\n",
        "                            batch_first=True, bidirectional=True, dropout=dropout if n_lstm_layers>1 else 0.0)\n",
        "\n",
        "        self.dropout = nn.Dropout(dropout)\n",
        "        self.fc1 = nn.Linear(hidden_size*2, 128)  # *2 for bidirectional\n",
        "        self.fc2 = nn.Linear(128, n_classes)\n",
        "\n",
        "    def forward(self, x):\n",
        "        # x: (batch, n_mfcc, time)\n",
        "        x = F.relu(self.bn1(self.conv1(x)))\n",
        "        x = self.pool1(x)   # (batch, 128, time/2)\n",
        "        x = F.relu(self.bn2(self.conv2(x)))\n",
        "        x = self.pool2(x)   # (batch, 256, time/4)\n",
        "\n",
        "        # transpose to (batch, time_seq, feat)\n",
        "        x = x.permute(0, 2, 1)  # (batch, seq_len, 256)\n",
        "\n",
        "        # LSTM\n",
        "        out, (hn, cn) = self.lstm(x)  # out: (batch, seq_len, hidden*2)\n",
        "        # use mean pooling over time\n",
        "        out = torch.mean(out, dim=1)  # (batch, hidden*2)\n",
        "\n",
        "        out = self.dropout(F.relu(self.fc1(out)))\n",
        "        out = self.fc2(out)\n",
        "        return out"
      ],
      "metadata": {
        "id": "TFrk__tTd8fW"
      },
      "execution_count": 34,
      "outputs": []
    },
    {
      "cell_type": "code",
      "source": [
        "def gather_files(data_dir, genres=GENRES):\n",
        "    files = []\n",
        "    labels = []\n",
        "    for i, g in enumerate(genres):\n",
        "        folder = os.path.join(data_dir, g)\n",
        "        if not os.path.isdir(folder):\n",
        "            print(f\"Warning: {folder} not found.\")\n",
        "            continue\n",
        "        for f in os.listdir(folder):\n",
        "            if f.lower().endswith(('.wav', '.au', '.mp3', '.aiff', '.aif')):\n",
        "                files.append(os.path.join(folder, f))\n",
        "                labels.append(g)\n",
        "    return files, labels\n",
        "\n",
        "all_files, all_labels_str = gather_files(DATA_DIR, GENRES)\n",
        "if len(all_files) == 0:\n",
        "    raise RuntimeError(f\"No audio files found in {DATA_DIR}. Check path and file extensions.\")\n"
      ],
      "metadata": {
        "id": "y_0SKymKd-3F"
      },
      "execution_count": 35,
      "outputs": []
    },
    {
      "cell_type": "code",
      "source": [
        "# Label encode\n",
        "le = LabelEncoder()\n",
        "all_labels = le.fit_transform(all_labels_str)\n",
        "\n",
        "# Train / val / test split (stratified)\n",
        "X_train, X_temp, y_train, y_temp = train_test_split(all_files, all_labels, test_size=0.25, random_state=SEED, stratify=all_labels)\n",
        "X_val, X_test, y_val, y_test = train_test_split(X_temp, y_temp, test_size=0.5, random_state=SEED, stratify=y_temp)\n",
        "\n",
        "print(\"Dataset sizes:\", len(X_train), len(X_val), len(X_test))"
      ],
      "metadata": {
        "colab": {
          "base_uri": "https://localhost:8080/"
        },
        "id": "AuDG3L2ueDyl",
        "outputId": "f9c9d88d-105b-41d1-db4e-e394d7f55779"
      },
      "execution_count": 36,
      "outputs": [
        {
          "output_type": "stream",
          "name": "stdout",
          "text": [
            "Dataset sizes: 2248 375 375\n"
          ]
        }
      ]
    },
    {
      "cell_type": "code",
      "source": [
        "# Datasets & loaders\n",
        "train_ds = GTZANDataset(X_train, y_train, augment=True)\n",
        "val_ds   = GTZANDataset(X_val, y_val, augment=False)\n",
        "test_ds  = GTZANDataset(X_test, y_test, augment=False)\n",
        "\n",
        "train_loader = DataLoader(train_ds, batch_size=BATCH_SIZE, shuffle=True, num_workers=2, pin_memory=True)\n",
        "val_loader   = DataLoader(val_ds, batch_size=BATCH_SIZE, shuffle=False, num_workers=2, pin_memory=True)\n",
        "test_loader  = DataLoader(test_ds, batch_size=BATCH_SIZE, shuffle=False, num_workers=2, pin_memory=True)"
      ],
      "metadata": {
        "id": "ykWzWlpreIot"
      },
      "execution_count": 37,
      "outputs": []
    },
    {
      "cell_type": "code",
      "source": [
        "model = ConvLSTMGenre(n_mfcc=N_MFCC, hidden_size=128, n_classes=len(le.classes_)).to(DEVICE)\n",
        "optimizer = torch.optim.Adam(model.parameters(), lr=LEARNING_RATE, weight_decay=WEIGHT_DECAY)\n",
        "criterion = nn.CrossEntropyLoss()\n",
        "scheduler = torch.optim.lr_scheduler.ReduceLROnPlateau(optimizer, mode='min', factor=0.5, patience=2)\n",
        "\n",
        "# Early stopping\n",
        "best_val_loss = float('inf')\n",
        "epochs_no_improve = 0\n",
        "best_model_path = \"best_music_genre_model.pth\""
      ],
      "metadata": {
        "id": "Y7Feakk6lVWy"
      },
      "execution_count": 38,
      "outputs": []
    },
    {
      "cell_type": "code",
      "source": [
        "def train_one_epoch(model, loader, optimizer, criterion):\n",
        "    model.train()\n",
        "    running_loss = 0.0\n",
        "    correct = 0\n",
        "    total = 0\n",
        "    for X_batch, y_batch in tqdm(loader, desc=\"Train batches\", leave=False):\n",
        "        X_batch = X_batch.to(DEVICE)        # shape: (batch, n_mfcc, time)\n",
        "        y_batch = y_batch.to(DEVICE)\n",
        "        optimizer.zero_grad()\n",
        "        outputs = model(X_batch)\n",
        "        loss = criterion(outputs, y_batch)\n",
        "        loss.backward()\n",
        "        optimizer.step()\n",
        "        running_loss += loss.item() * X_batch.size(0)\n",
        "        preds = outputs.argmax(dim=1)\n",
        "        correct += (preds == y_batch).sum().item()\n",
        "        total += y_batch.size(0)\n",
        "    epoch_loss = running_loss / total\n",
        "    acc = correct / total\n",
        "    return epoch_loss, acc"
      ],
      "metadata": {
        "id": "btwVW5wmeTLG"
      },
      "execution_count": 39,
      "outputs": []
    },
    {
      "cell_type": "code",
      "source": [
        "def eval_model(model, loader, criterion):\n",
        "    model.eval()\n",
        "    running_loss = 0.0\n",
        "    correct = 0\n",
        "    total = 0\n",
        "    with torch.no_grad():\n",
        "        for X_batch, y_batch in tqdm(loader, desc=\"Eval batches\", leave=False):\n",
        "            X_batch = X_batch.to(DEVICE)\n",
        "            y_batch = y_batch.to(DEVICE)\n",
        "            outputs = model(X_batch)\n",
        "            loss = criterion(outputs, y_batch)\n",
        "            running_loss += loss.item() * X_batch.size(0)\n",
        "            preds = outputs.argmax(dim=1)\n",
        "            correct += (preds == y_batch).sum().item()\n",
        "            total += y_batch.size(0)\n",
        "    epoch_loss = running_loss / total\n",
        "    acc = correct / total\n",
        "    return epoch_loss, acc"
      ],
      "metadata": {
        "id": "AaJm9hKaeXu2"
      },
      "execution_count": 40,
      "outputs": []
    },
    {
      "cell_type": "code",
      "source": [
        "for epoch in range(1, NUM_EPOCHS + 1):\n",
        "    print(f\"\\n=== Epoch {epoch}/{NUM_EPOCHS} ===\")\n",
        "    train_loss, train_acc = train_one_epoch(model, train_loader, optimizer, criterion)\n",
        "    val_loss, val_acc = eval_model(model, val_loader, criterion)\n",
        "    print(f\"Train Loss: {train_loss:.4f}  Acc: {train_acc*100:.2f}%\")\n",
        "    print(f\"Val   Loss: {val_loss:.4f}  Acc: {val_acc*100:.2f}%\")\n",
        "\n",
        "    scheduler.step(val_loss)\n",
        "\n",
        "    # save best\n",
        "    if val_loss < best_val_loss - 1e-5:\n",
        "        best_val_loss = val_loss\n",
        "        epochs_no_improve = 0\n",
        "        torch.save({\n",
        "            'epoch': epoch,\n",
        "            'model_state': model.state_dict(),\n",
        "            'optimizer_state': optimizer.state_dict(),\n",
        "            'label_encoder_classes': le.classes_,\n",
        "            'val_loss': val_loss\n",
        "        }, best_model_path)\n",
        "        print(\"Saved best model.\")\n",
        "    else:\n",
        "        epochs_no_improve += 1\n",
        "        print(f\"No improvement for {epochs_no_improve} epoch(s).\")\n",
        "\n",
        "    if epochs_no_improve >= PATIENCE:\n",
        "        print(\"Early stopping triggered.\")\n",
        "        break\n"
      ],
      "metadata": {
        "colab": {
          "base_uri": "https://localhost:8080/"
        },
        "id": "SPuLJqZ8eglt",
        "outputId": "048529e1-f826-4908-db7c-3afb2c169303",
        "collapsed": true
      },
      "execution_count": 41,
      "outputs": [
        {
          "output_type": "stream",
          "name": "stdout",
          "text": [
            "\n",
            "=== Epoch 1/25 ===\n"
          ]
        },
        {
          "output_type": "stream",
          "name": "stderr",
          "text": [
            "\rTrain batches:   0%|          | 0/71 [00:00<?, ?it/s]Exception ignored in: Exception ignored in: <function _MultiProcessingDataLoaderIter.__del__ at 0x7eff0bfed8a0><function _MultiProcessingDataLoaderIter.__del__ at 0x7eff0bfed8a0>\n",
            "\n",
            "Traceback (most recent call last):\n",
            "Traceback (most recent call last):\n",
            "  File \"/usr/local/lib/python3.12/dist-packages/torch/utils/data/dataloader.py\", line 1664, in __del__\n",
            "  File \"/usr/local/lib/python3.12/dist-packages/torch/utils/data/dataloader.py\", line 1664, in __del__\n",
            "        self._shutdown_workers()self._shutdown_workers()\n",
            "  File \"/usr/local/lib/python3.12/dist-packages/torch/utils/data/dataloader.py\", line 1647, in _shutdown_workers\n",
            "\n",
            "  File \"/usr/local/lib/python3.12/dist-packages/torch/utils/data/dataloader.py\", line 1647, in _shutdown_workers\n",
            "        if w.is_alive():if w.is_alive():\n",
            " \n",
            "            ^ ^^^^^^^^^^^^^^^^^^^^\n",
            "^  File \"/usr/lib/python3.12/multiprocessing/process.py\", line 160, in is_alive\n",
            "^    ^assert self._parent_pid == os.getpid(), 'can only test a child process'\n",
            "\n",
            "   File \"/usr/lib/python3.12/multiprocessing/process.py\", line 160, in is_alive\n",
            "     assert self._parent_pid == os.getpid(), 'can only test a child process' \n",
            "                ^ ^ ^ ^^^^^^^^^^^^^^^^^^^^^^^^^^^^^^^^^^^^^^^^^^^^^^^^^^^^^^^^^^\n",
            "^\n",
            "AssertionErrorAssertionError: : can only test a child processcan only test a child process\n",
            "\n",
            "Eval batches:   0%|          | 0/12 [00:00<?, ?it/s]Exception ignored in: <function _MultiProcessingDataLoaderIter.__del__ at 0x7eff0bfed8a0>Exception ignored in: \n",
            "<function _MultiProcessingDataLoaderIter.__del__ at 0x7eff0bfed8a0>\n",
            "Traceback (most recent call last):\n",
            "  File \"/usr/local/lib/python3.12/dist-packages/torch/utils/data/dataloader.py\", line 1664, in __del__\n",
            "Traceback (most recent call last):\n",
            "      File \"/usr/local/lib/python3.12/dist-packages/torch/utils/data/dataloader.py\", line 1664, in __del__\n",
            "    self._shutdown_workers()\n",
            "self._shutdown_workers()  File \"/usr/local/lib/python3.12/dist-packages/torch/utils/data/dataloader.py\", line 1647, in _shutdown_workers\n",
            "\n",
            "  File \"/usr/local/lib/python3.12/dist-packages/torch/utils/data/dataloader.py\", line 1647, in _shutdown_workers\n",
            "    if w.is_alive():    \n",
            "if w.is_alive(): \n",
            "           ^ ^ ^^^^^^^^^^^^^^^^^^\n",
            "^  File \"/usr/lib/python3.12/multiprocessing/process.py\", line 160, in is_alive\n",
            "^    ^assert self._parent_pid == os.getpid(), 'can only test a child process'^\n",
            "\n",
            "   File \"/usr/lib/python3.12/multiprocessing/process.py\", line 160, in is_alive\n",
            "      assert self._parent_pid == os.getpid(), 'can only test a child process' \n",
            "          ^^ ^  ^ ^^^^ ^ ^ ^ ^^^^^^^^^^^^^^^^^^^^^^^^^^^^^^^^^^^^^^\n",
            "^AssertionError: ^^can only test a child process^^\n",
            "^^^^^^^^\n",
            "AssertionErrorcan only test a child process: \n",
            "Eval batches:   8%|▊         | 1/12 [00:06<01:09,  6.36s/it]/tmp/ipython-input-237322740.py:4: UserWarning: PySoundFile failed. Trying audioread instead.\n",
            "  y, sr = librosa.load(path, sr=SR, duration=DURATION)\n",
            "/usr/local/lib/python3.12/dist-packages/librosa/core/audio.py:184: FutureWarning: librosa.core.audio.__audioread_load\n",
            "\tDeprecated as of librosa version 0.10.0.\n",
            "\tIt will be removed in librosa version 1.0.\n",
            "  y, sr_native = __audioread_load(path, offset, duration, dtype)\n"
          ]
        },
        {
          "output_type": "stream",
          "name": "stdout",
          "text": [
            "⚠️ Skipping file: /content/genres/genres_original/jazz/jazz.00054.wav ()\n"
          ]
        },
        {
          "output_type": "stream",
          "name": "stderr",
          "text": []
        },
        {
          "output_type": "stream",
          "name": "stdout",
          "text": [
            "Train Loss: 1.7218  Acc: 39.41%\n",
            "Val   Loss: 1.2636  Acc: 53.60%\n",
            "Saved best model.\n",
            "\n",
            "=== Epoch 2/25 ===\n"
          ]
        },
        {
          "output_type": "stream",
          "name": "stderr",
          "text": [
            "Eval batches:  17%|█▋        | 2/12 [00:06<00:26,  2.68s/it]/tmp/ipython-input-237322740.py:4: UserWarning: PySoundFile failed. Trying audioread instead.\n",
            "  y, sr = librosa.load(path, sr=SR, duration=DURATION)\n",
            "/usr/local/lib/python3.12/dist-packages/librosa/core/audio.py:184: FutureWarning: librosa.core.audio.__audioread_load\n",
            "\tDeprecated as of librosa version 0.10.0.\n",
            "\tIt will be removed in librosa version 1.0.\n",
            "  y, sr_native = __audioread_load(path, offset, duration, dtype)\n"
          ]
        },
        {
          "output_type": "stream",
          "name": "stdout",
          "text": [
            "⚠️ Skipping file: /content/genres/genres_original/jazz/jazz.00054.wav ()\n"
          ]
        },
        {
          "output_type": "stream",
          "name": "stderr",
          "text": []
        },
        {
          "output_type": "stream",
          "name": "stdout",
          "text": [
            "Train Loss: 1.2400  Acc: 55.29%\n",
            "Val   Loss: 1.2791  Acc: 56.00%\n",
            "No improvement for 1 epoch(s).\n",
            "\n",
            "=== Epoch 3/25 ===\n"
          ]
        },
        {
          "output_type": "stream",
          "name": "stderr",
          "text": [
            "Eval batches:   8%|▊         | 1/12 [00:06<01:07,  6.14s/it]/tmp/ipython-input-237322740.py:4: UserWarning: PySoundFile failed. Trying audioread instead.\n",
            "  y, sr = librosa.load(path, sr=SR, duration=DURATION)\n",
            "/usr/local/lib/python3.12/dist-packages/librosa/core/audio.py:184: FutureWarning: librosa.core.audio.__audioread_load\n",
            "\tDeprecated as of librosa version 0.10.0.\n",
            "\tIt will be removed in librosa version 1.0.\n",
            "  y, sr_native = __audioread_load(path, offset, duration, dtype)\n"
          ]
        },
        {
          "output_type": "stream",
          "name": "stdout",
          "text": [
            "⚠️ Skipping file: /content/genres/genres_original/jazz/jazz.00054.wav ()\n"
          ]
        },
        {
          "output_type": "stream",
          "name": "stderr",
          "text": []
        },
        {
          "output_type": "stream",
          "name": "stdout",
          "text": [
            "Train Loss: 1.0469  Acc: 63.75%\n",
            "Val   Loss: 0.9112  Acc: 68.80%\n",
            "Saved best model.\n",
            "\n",
            "=== Epoch 4/25 ===\n"
          ]
        },
        {
          "output_type": "stream",
          "name": "stderr",
          "text": [
            "Eval batches:   8%|▊         | 1/12 [00:05<01:05,  5.97s/it]/tmp/ipython-input-237322740.py:4: UserWarning: PySoundFile failed. Trying audioread instead.\n",
            "  y, sr = librosa.load(path, sr=SR, duration=DURATION)\n",
            "/usr/local/lib/python3.12/dist-packages/librosa/core/audio.py:184: FutureWarning: librosa.core.audio.__audioread_load\n",
            "\tDeprecated as of librosa version 0.10.0.\n",
            "\tIt will be removed in librosa version 1.0.\n",
            "  y, sr_native = __audioread_load(path, offset, duration, dtype)\n"
          ]
        },
        {
          "output_type": "stream",
          "name": "stdout",
          "text": [
            "⚠️ Skipping file: /content/genres/genres_original/jazz/jazz.00054.wav ()\n"
          ]
        },
        {
          "output_type": "stream",
          "name": "stderr",
          "text": []
        },
        {
          "output_type": "stream",
          "name": "stdout",
          "text": [
            "Train Loss: 0.9562  Acc: 67.30%\n",
            "Val   Loss: 0.9239  Acc: 68.27%\n",
            "No improvement for 1 epoch(s).\n",
            "\n",
            "=== Epoch 5/25 ===\n"
          ]
        },
        {
          "output_type": "stream",
          "name": "stderr",
          "text": [
            "Eval batches:  17%|█▋        | 2/12 [00:07<00:29,  2.95s/it]/tmp/ipython-input-237322740.py:4: UserWarning: PySoundFile failed. Trying audioread instead.\n",
            "  y, sr = librosa.load(path, sr=SR, duration=DURATION)\n",
            "/usr/local/lib/python3.12/dist-packages/librosa/core/audio.py:184: FutureWarning: librosa.core.audio.__audioread_load\n",
            "\tDeprecated as of librosa version 0.10.0.\n",
            "\tIt will be removed in librosa version 1.0.\n",
            "  y, sr_native = __audioread_load(path, offset, duration, dtype)\n"
          ]
        },
        {
          "output_type": "stream",
          "name": "stdout",
          "text": [
            "⚠️ Skipping file: /content/genres/genres_original/jazz/jazz.00054.wav ()\n"
          ]
        },
        {
          "output_type": "stream",
          "name": "stderr",
          "text": []
        },
        {
          "output_type": "stream",
          "name": "stdout",
          "text": [
            "Train Loss: 0.7672  Acc: 73.67%\n",
            "Val   Loss: 0.8300  Acc: 70.67%\n",
            "Saved best model.\n",
            "\n",
            "=== Epoch 6/25 ===\n"
          ]
        },
        {
          "output_type": "stream",
          "name": "stderr",
          "text": [
            "Eval batches:  17%|█▋        | 2/12 [00:06<00:25,  2.56s/it]/tmp/ipython-input-237322740.py:4: UserWarning: PySoundFile failed. Trying audioread instead.\n",
            "  y, sr = librosa.load(path, sr=SR, duration=DURATION)\n",
            "/usr/local/lib/python3.12/dist-packages/librosa/core/audio.py:184: FutureWarning: librosa.core.audio.__audioread_load\n",
            "\tDeprecated as of librosa version 0.10.0.\n",
            "\tIt will be removed in librosa version 1.0.\n",
            "  y, sr_native = __audioread_load(path, offset, duration, dtype)\n"
          ]
        },
        {
          "output_type": "stream",
          "name": "stdout",
          "text": [
            "⚠️ Skipping file: /content/genres/genres_original/jazz/jazz.00054.wav ()\n"
          ]
        },
        {
          "output_type": "stream",
          "name": "stderr",
          "text": []
        },
        {
          "output_type": "stream",
          "name": "stdout",
          "text": [
            "Train Loss: 0.7849  Acc: 73.35%\n",
            "Val   Loss: 0.6857  Acc: 77.33%\n",
            "Saved best model.\n",
            "\n",
            "=== Epoch 7/25 ===\n"
          ]
        },
        {
          "output_type": "stream",
          "name": "stderr",
          "text": [
            "Eval batches:  17%|█▋        | 2/12 [00:06<00:28,  2.89s/it]/tmp/ipython-input-237322740.py:4: UserWarning: PySoundFile failed. Trying audioread instead.\n",
            "  y, sr = librosa.load(path, sr=SR, duration=DURATION)\n",
            "/usr/local/lib/python3.12/dist-packages/librosa/core/audio.py:184: FutureWarning: librosa.core.audio.__audioread_load\n",
            "\tDeprecated as of librosa version 0.10.0.\n",
            "\tIt will be removed in librosa version 1.0.\n",
            "  y, sr_native = __audioread_load(path, offset, duration, dtype)\n"
          ]
        },
        {
          "output_type": "stream",
          "name": "stdout",
          "text": [
            "⚠️ Skipping file: /content/genres/genres_original/jazz/jazz.00054.wav ()\n"
          ]
        },
        {
          "output_type": "stream",
          "name": "stderr",
          "text": []
        },
        {
          "output_type": "stream",
          "name": "stdout",
          "text": [
            "Train Loss: 0.6851  Acc: 76.25%\n",
            "Val   Loss: 0.6810  Acc: 74.13%\n",
            "Saved best model.\n",
            "\n",
            "=== Epoch 8/25 ===\n"
          ]
        },
        {
          "output_type": "stream",
          "name": "stderr",
          "text": [
            "Eval batches:   8%|▊         | 1/12 [00:05<01:03,  5.78s/it]/tmp/ipython-input-237322740.py:4: UserWarning: PySoundFile failed. Trying audioread instead.\n",
            "  y, sr = librosa.load(path, sr=SR, duration=DURATION)\n",
            "/usr/local/lib/python3.12/dist-packages/librosa/core/audio.py:184: FutureWarning: librosa.core.audio.__audioread_load\n",
            "\tDeprecated as of librosa version 0.10.0.\n",
            "\tIt will be removed in librosa version 1.0.\n",
            "  y, sr_native = __audioread_load(path, offset, duration, dtype)\n"
          ]
        },
        {
          "output_type": "stream",
          "name": "stdout",
          "text": [
            "⚠️ Skipping file: /content/genres/genres_original/jazz/jazz.00054.wav ()\n"
          ]
        },
        {
          "output_type": "stream",
          "name": "stderr",
          "text": []
        },
        {
          "output_type": "stream",
          "name": "stdout",
          "text": [
            "Train Loss: 0.6306  Acc: 78.74%\n",
            "Val   Loss: 0.7577  Acc: 74.93%\n",
            "No improvement for 1 epoch(s).\n",
            "\n",
            "=== Epoch 9/25 ===\n"
          ]
        },
        {
          "output_type": "stream",
          "name": "stderr",
          "text": [
            "Eval batches:   8%|▊         | 1/12 [00:06<01:12,  6.58s/it]/tmp/ipython-input-237322740.py:4: UserWarning: PySoundFile failed. Trying audioread instead.\n",
            "  y, sr = librosa.load(path, sr=SR, duration=DURATION)\n",
            "/usr/local/lib/python3.12/dist-packages/librosa/core/audio.py:184: FutureWarning: librosa.core.audio.__audioread_load\n",
            "\tDeprecated as of librosa version 0.10.0.\n",
            "\tIt will be removed in librosa version 1.0.\n",
            "  y, sr_native = __audioread_load(path, offset, duration, dtype)\n"
          ]
        },
        {
          "output_type": "stream",
          "name": "stdout",
          "text": [
            "⚠️ Skipping file: /content/genres/genres_original/jazz/jazz.00054.wav ()\n"
          ]
        },
        {
          "output_type": "stream",
          "name": "stderr",
          "text": []
        },
        {
          "output_type": "stream",
          "name": "stdout",
          "text": [
            "Train Loss: 0.5597  Acc: 80.47%\n",
            "Val   Loss: 0.8515  Acc: 73.60%\n",
            "No improvement for 2 epoch(s).\n",
            "\n",
            "=== Epoch 10/25 ===\n"
          ]
        },
        {
          "output_type": "stream",
          "name": "stderr",
          "text": [
            "Eval batches:   8%|▊         | 1/12 [00:06<01:15,  6.88s/it]/tmp/ipython-input-237322740.py:4: UserWarning: PySoundFile failed. Trying audioread instead.\n",
            "  y, sr = librosa.load(path, sr=SR, duration=DURATION)\n",
            "/usr/local/lib/python3.12/dist-packages/librosa/core/audio.py:184: FutureWarning: librosa.core.audio.__audioread_load\n",
            "\tDeprecated as of librosa version 0.10.0.\n",
            "\tIt will be removed in librosa version 1.0.\n",
            "  y, sr_native = __audioread_load(path, offset, duration, dtype)\n"
          ]
        },
        {
          "output_type": "stream",
          "name": "stdout",
          "text": [
            "⚠️ Skipping file: /content/genres/genres_original/jazz/jazz.00054.wav ()\n"
          ]
        },
        {
          "output_type": "stream",
          "name": "stderr",
          "text": []
        },
        {
          "output_type": "stream",
          "name": "stdout",
          "text": [
            "Train Loss: 0.5062  Acc: 82.61%\n",
            "Val   Loss: 0.4740  Acc: 82.93%\n",
            "Saved best model.\n",
            "\n",
            "=== Epoch 11/25 ===\n"
          ]
        },
        {
          "output_type": "stream",
          "name": "stderr",
          "text": [
            "Eval batches:   8%|▊         | 1/12 [00:06<01:14,  6.73s/it]/tmp/ipython-input-237322740.py:4: UserWarning: PySoundFile failed. Trying audioread instead.\n",
            "  y, sr = librosa.load(path, sr=SR, duration=DURATION)\n",
            "/usr/local/lib/python3.12/dist-packages/librosa/core/audio.py:184: FutureWarning: librosa.core.audio.__audioread_load\n",
            "\tDeprecated as of librosa version 0.10.0.\n",
            "\tIt will be removed in librosa version 1.0.\n",
            "  y, sr_native = __audioread_load(path, offset, duration, dtype)\n"
          ]
        },
        {
          "output_type": "stream",
          "name": "stdout",
          "text": [
            "⚠️ Skipping file: /content/genres/genres_original/jazz/jazz.00054.wav ()\n"
          ]
        },
        {
          "output_type": "stream",
          "name": "stderr",
          "text": []
        },
        {
          "output_type": "stream",
          "name": "stdout",
          "text": [
            "Train Loss: 0.4669  Acc: 84.61%\n",
            "Val   Loss: 0.4688  Acc: 85.33%\n",
            "Saved best model.\n",
            "\n",
            "=== Epoch 12/25 ===\n"
          ]
        },
        {
          "output_type": "stream",
          "name": "stderr",
          "text": [
            "Eval batches:  17%|█▋        | 2/12 [00:06<00:25,  2.55s/it]/tmp/ipython-input-237322740.py:4: UserWarning: PySoundFile failed. Trying audioread instead.\n",
            "  y, sr = librosa.load(path, sr=SR, duration=DURATION)\n",
            "/usr/local/lib/python3.12/dist-packages/librosa/core/audio.py:184: FutureWarning: librosa.core.audio.__audioread_load\n",
            "\tDeprecated as of librosa version 0.10.0.\n",
            "\tIt will be removed in librosa version 1.0.\n",
            "  y, sr_native = __audioread_load(path, offset, duration, dtype)\n"
          ]
        },
        {
          "output_type": "stream",
          "name": "stdout",
          "text": [
            "⚠️ Skipping file: /content/genres/genres_original/jazz/jazz.00054.wav ()\n"
          ]
        },
        {
          "output_type": "stream",
          "name": "stderr",
          "text": []
        },
        {
          "output_type": "stream",
          "name": "stdout",
          "text": [
            "Train Loss: 0.5227  Acc: 83.41%\n",
            "Val   Loss: 0.4035  Acc: 87.47%\n",
            "Saved best model.\n",
            "\n",
            "=== Epoch 13/25 ===\n"
          ]
        },
        {
          "output_type": "stream",
          "name": "stderr",
          "text": [
            "Eval batches:  17%|█▋        | 2/12 [00:06<00:26,  2.68s/it]/tmp/ipython-input-237322740.py:4: UserWarning: PySoundFile failed. Trying audioread instead.\n",
            "  y, sr = librosa.load(path, sr=SR, duration=DURATION)\n",
            "/usr/local/lib/python3.12/dist-packages/librosa/core/audio.py:184: FutureWarning: librosa.core.audio.__audioread_load\n",
            "\tDeprecated as of librosa version 0.10.0.\n",
            "\tIt will be removed in librosa version 1.0.\n",
            "  y, sr_native = __audioread_load(path, offset, duration, dtype)\n"
          ]
        },
        {
          "output_type": "stream",
          "name": "stdout",
          "text": [
            "⚠️ Skipping file: /content/genres/genres_original/jazz/jazz.00054.wav ()\n"
          ]
        },
        {
          "output_type": "stream",
          "name": "stderr",
          "text": []
        },
        {
          "output_type": "stream",
          "name": "stdout",
          "text": [
            "Train Loss: 0.3441  Acc: 89.32%\n",
            "Val   Loss: 0.4213  Acc: 88.53%\n",
            "No improvement for 1 epoch(s).\n",
            "\n",
            "=== Epoch 14/25 ===\n"
          ]
        },
        {
          "output_type": "stream",
          "name": "stderr",
          "text": [
            "Eval batches:  17%|█▋        | 2/12 [00:07<00:32,  3.23s/it]/tmp/ipython-input-237322740.py:4: UserWarning: PySoundFile failed. Trying audioread instead.\n",
            "  y, sr = librosa.load(path, sr=SR, duration=DURATION)\n",
            "/usr/local/lib/python3.12/dist-packages/librosa/core/audio.py:184: FutureWarning: librosa.core.audio.__audioread_load\n",
            "\tDeprecated as of librosa version 0.10.0.\n",
            "\tIt will be removed in librosa version 1.0.\n",
            "  y, sr_native = __audioread_load(path, offset, duration, dtype)\n"
          ]
        },
        {
          "output_type": "stream",
          "name": "stdout",
          "text": [
            "⚠️ Skipping file: /content/genres/genres_original/jazz/jazz.00054.wav ()\n"
          ]
        },
        {
          "output_type": "stream",
          "name": "stderr",
          "text": []
        },
        {
          "output_type": "stream",
          "name": "stdout",
          "text": [
            "Train Loss: 0.3414  Acc: 88.48%\n",
            "Val   Loss: 0.3417  Acc: 88.00%\n",
            "Saved best model.\n",
            "\n",
            "=== Epoch 15/25 ===\n"
          ]
        },
        {
          "output_type": "stream",
          "name": "stderr",
          "text": [
            "Eval batches:   8%|▊         | 1/12 [00:06<01:14,  6.82s/it]/tmp/ipython-input-237322740.py:4: UserWarning: PySoundFile failed. Trying audioread instead.\n",
            "  y, sr = librosa.load(path, sr=SR, duration=DURATION)\n",
            "/usr/local/lib/python3.12/dist-packages/librosa/core/audio.py:184: FutureWarning: librosa.core.audio.__audioread_load\n",
            "\tDeprecated as of librosa version 0.10.0.\n",
            "\tIt will be removed in librosa version 1.0.\n",
            "  y, sr_native = __audioread_load(path, offset, duration, dtype)\n"
          ]
        },
        {
          "output_type": "stream",
          "name": "stdout",
          "text": [
            "⚠️ Skipping file: /content/genres/genres_original/jazz/jazz.00054.wav ()\n"
          ]
        },
        {
          "output_type": "stream",
          "name": "stderr",
          "text": []
        },
        {
          "output_type": "stream",
          "name": "stdout",
          "text": [
            "Train Loss: 0.3280  Acc: 89.99%\n",
            "Val   Loss: 0.4037  Acc: 89.60%\n",
            "No improvement for 1 epoch(s).\n",
            "\n",
            "=== Epoch 16/25 ===\n"
          ]
        },
        {
          "output_type": "stream",
          "name": "stderr",
          "text": [
            "Eval batches:  17%|█▋        | 2/12 [00:07<00:30,  3.01s/it]/tmp/ipython-input-237322740.py:4: UserWarning: PySoundFile failed. Trying audioread instead.\n",
            "  y, sr = librosa.load(path, sr=SR, duration=DURATION)\n",
            "/usr/local/lib/python3.12/dist-packages/librosa/core/audio.py:184: FutureWarning: librosa.core.audio.__audioread_load\n",
            "\tDeprecated as of librosa version 0.10.0.\n",
            "\tIt will be removed in librosa version 1.0.\n",
            "  y, sr_native = __audioread_load(path, offset, duration, dtype)\n"
          ]
        },
        {
          "output_type": "stream",
          "name": "stdout",
          "text": [
            "⚠️ Skipping file: /content/genres/genres_original/jazz/jazz.00054.wav ()\n"
          ]
        },
        {
          "output_type": "stream",
          "name": "stderr",
          "text": []
        },
        {
          "output_type": "stream",
          "name": "stdout",
          "text": [
            "Train Loss: 0.2981  Acc: 90.17%\n",
            "Val   Loss: 0.2822  Acc: 93.07%\n",
            "Saved best model.\n",
            "\n",
            "=== Epoch 17/25 ===\n"
          ]
        },
        {
          "output_type": "stream",
          "name": "stderr",
          "text": [
            "Eval batches:   8%|▊         | 1/12 [00:06<01:09,  6.29s/it]/tmp/ipython-input-237322740.py:4: UserWarning: PySoundFile failed. Trying audioread instead.\n",
            "  y, sr = librosa.load(path, sr=SR, duration=DURATION)\n",
            "/usr/local/lib/python3.12/dist-packages/librosa/core/audio.py:184: FutureWarning: librosa.core.audio.__audioread_load\n",
            "\tDeprecated as of librosa version 0.10.0.\n",
            "\tIt will be removed in librosa version 1.0.\n",
            "  y, sr_native = __audioread_load(path, offset, duration, dtype)\n"
          ]
        },
        {
          "output_type": "stream",
          "name": "stdout",
          "text": [
            "⚠️ Skipping file: /content/genres/genres_original/jazz/jazz.00054.wav ()\n"
          ]
        },
        {
          "output_type": "stream",
          "name": "stderr",
          "text": []
        },
        {
          "output_type": "stream",
          "name": "stdout",
          "text": [
            "Train Loss: 0.2971  Acc: 90.30%\n",
            "Val   Loss: 0.3045  Acc: 90.67%\n",
            "No improvement for 1 epoch(s).\n",
            "\n",
            "=== Epoch 18/25 ===\n"
          ]
        },
        {
          "output_type": "stream",
          "name": "stderr",
          "text": [
            "Eval batches:   8%|▊         | 1/12 [00:05<01:05,  5.98s/it]/tmp/ipython-input-237322740.py:4: UserWarning: PySoundFile failed. Trying audioread instead.\n",
            "  y, sr = librosa.load(path, sr=SR, duration=DURATION)\n",
            "/usr/local/lib/python3.12/dist-packages/librosa/core/audio.py:184: FutureWarning: librosa.core.audio.__audioread_load\n",
            "\tDeprecated as of librosa version 0.10.0.\n",
            "\tIt will be removed in librosa version 1.0.\n",
            "  y, sr_native = __audioread_load(path, offset, duration, dtype)\n"
          ]
        },
        {
          "output_type": "stream",
          "name": "stdout",
          "text": [
            "⚠️ Skipping file: /content/genres/genres_original/jazz/jazz.00054.wav ()\n"
          ]
        },
        {
          "output_type": "stream",
          "name": "stderr",
          "text": []
        },
        {
          "output_type": "stream",
          "name": "stdout",
          "text": [
            "Train Loss: 0.3103  Acc: 89.86%\n",
            "Val   Loss: 0.2821  Acc: 90.93%\n",
            "Saved best model.\n",
            "\n",
            "=== Epoch 19/25 ===\n"
          ]
        },
        {
          "output_type": "stream",
          "name": "stderr",
          "text": [
            "Eval batches:  17%|█▋        | 2/12 [00:06<00:26,  2.66s/it]/tmp/ipython-input-237322740.py:4: UserWarning: PySoundFile failed. Trying audioread instead.\n",
            "  y, sr = librosa.load(path, sr=SR, duration=DURATION)\n",
            "/usr/local/lib/python3.12/dist-packages/librosa/core/audio.py:184: FutureWarning: librosa.core.audio.__audioread_load\n",
            "\tDeprecated as of librosa version 0.10.0.\n",
            "\tIt will be removed in librosa version 1.0.\n",
            "  y, sr_native = __audioread_load(path, offset, duration, dtype)\n"
          ]
        },
        {
          "output_type": "stream",
          "name": "stdout",
          "text": [
            "⚠️ Skipping file: /content/genres/genres_original/jazz/jazz.00054.wav ()\n"
          ]
        },
        {
          "output_type": "stream",
          "name": "stderr",
          "text": []
        },
        {
          "output_type": "stream",
          "name": "stdout",
          "text": [
            "Train Loss: 0.2472  Acc: 92.48%\n",
            "Val   Loss: 0.3308  Acc: 89.87%\n",
            "No improvement for 1 epoch(s).\n",
            "\n",
            "=== Epoch 20/25 ===\n"
          ]
        },
        {
          "output_type": "stream",
          "name": "stderr",
          "text": [
            "Eval batches:  17%|█▋        | 2/12 [00:06<00:26,  2.67s/it]/tmp/ipython-input-237322740.py:4: UserWarning: PySoundFile failed. Trying audioread instead.\n",
            "  y, sr = librosa.load(path, sr=SR, duration=DURATION)\n",
            "/usr/local/lib/python3.12/dist-packages/librosa/core/audio.py:184: FutureWarning: librosa.core.audio.__audioread_load\n",
            "\tDeprecated as of librosa version 0.10.0.\n",
            "\tIt will be removed in librosa version 1.0.\n",
            "  y, sr_native = __audioread_load(path, offset, duration, dtype)\n"
          ]
        },
        {
          "output_type": "stream",
          "name": "stdout",
          "text": [
            "⚠️ Skipping file: /content/genres/genres_original/jazz/jazz.00054.wav ()\n"
          ]
        },
        {
          "output_type": "stream",
          "name": "stderr",
          "text": []
        },
        {
          "output_type": "stream",
          "name": "stdout",
          "text": [
            "Train Loss: 0.2641  Acc: 92.08%\n",
            "Val   Loss: 0.2463  Acc: 93.60%\n",
            "Saved best model.\n",
            "\n",
            "=== Epoch 21/25 ===\n"
          ]
        },
        {
          "output_type": "stream",
          "name": "stderr",
          "text": [
            "Eval batches:  17%|█▋        | 2/12 [00:06<00:25,  2.54s/it]/tmp/ipython-input-237322740.py:4: UserWarning: PySoundFile failed. Trying audioread instead.\n",
            "  y, sr = librosa.load(path, sr=SR, duration=DURATION)\n",
            "/usr/local/lib/python3.12/dist-packages/librosa/core/audio.py:184: FutureWarning: librosa.core.audio.__audioread_load\n",
            "\tDeprecated as of librosa version 0.10.0.\n",
            "\tIt will be removed in librosa version 1.0.\n",
            "  y, sr_native = __audioread_load(path, offset, duration, dtype)\n"
          ]
        },
        {
          "output_type": "stream",
          "name": "stdout",
          "text": [
            "⚠️ Skipping file: /content/genres/genres_original/jazz/jazz.00054.wav ()\n"
          ]
        },
        {
          "output_type": "stream",
          "name": "stderr",
          "text": []
        },
        {
          "output_type": "stream",
          "name": "stdout",
          "text": [
            "Train Loss: 0.2420  Acc: 93.06%\n",
            "Val   Loss: 0.2302  Acc: 93.87%\n",
            "Saved best model.\n",
            "\n",
            "=== Epoch 22/25 ===\n"
          ]
        },
        {
          "output_type": "stream",
          "name": "stderr",
          "text": [
            "Eval batches:  17%|█▋        | 2/12 [00:06<00:30,  3.02s/it]/tmp/ipython-input-237322740.py:4: UserWarning: PySoundFile failed. Trying audioread instead.\n",
            "  y, sr = librosa.load(path, sr=SR, duration=DURATION)\n",
            "/usr/local/lib/python3.12/dist-packages/librosa/core/audio.py:184: FutureWarning: librosa.core.audio.__audioread_load\n",
            "\tDeprecated as of librosa version 0.10.0.\n",
            "\tIt will be removed in librosa version 1.0.\n",
            "  y, sr_native = __audioread_load(path, offset, duration, dtype)\n"
          ]
        },
        {
          "output_type": "stream",
          "name": "stdout",
          "text": [
            "⚠️ Skipping file: /content/genres/genres_original/jazz/jazz.00054.wav ()\n"
          ]
        },
        {
          "output_type": "stream",
          "name": "stderr",
          "text": []
        },
        {
          "output_type": "stream",
          "name": "stdout",
          "text": [
            "Train Loss: 0.1968  Acc: 93.37%\n",
            "Val   Loss: 0.3052  Acc: 92.27%\n",
            "No improvement for 1 epoch(s).\n",
            "\n",
            "=== Epoch 23/25 ===\n"
          ]
        },
        {
          "output_type": "stream",
          "name": "stderr",
          "text": [
            "Eval batches:   8%|▊         | 1/12 [00:06<01:06,  6.00s/it]/tmp/ipython-input-237322740.py:4: UserWarning: PySoundFile failed. Trying audioread instead.\n",
            "  y, sr = librosa.load(path, sr=SR, duration=DURATION)\n",
            "/usr/local/lib/python3.12/dist-packages/librosa/core/audio.py:184: FutureWarning: librosa.core.audio.__audioread_load\n",
            "\tDeprecated as of librosa version 0.10.0.\n",
            "\tIt will be removed in librosa version 1.0.\n",
            "  y, sr_native = __audioread_load(path, offset, duration, dtype)\n"
          ]
        },
        {
          "output_type": "stream",
          "name": "stdout",
          "text": [
            "⚠️ Skipping file: /content/genres/genres_original/jazz/jazz.00054.wav ()\n"
          ]
        },
        {
          "output_type": "stream",
          "name": "stderr",
          "text": []
        },
        {
          "output_type": "stream",
          "name": "stdout",
          "text": [
            "Train Loss: 0.2026  Acc: 93.24%\n",
            "Val   Loss: 0.2696  Acc: 92.00%\n",
            "No improvement for 2 epoch(s).\n",
            "\n",
            "=== Epoch 24/25 ===\n"
          ]
        },
        {
          "output_type": "stream",
          "name": "stderr",
          "text": [
            "Eval batches:   8%|▊         | 1/12 [00:07<01:18,  7.13s/it]/tmp/ipython-input-237322740.py:4: UserWarning: PySoundFile failed. Trying audioread instead.\n",
            "  y, sr = librosa.load(path, sr=SR, duration=DURATION)\n",
            "/usr/local/lib/python3.12/dist-packages/librosa/core/audio.py:184: FutureWarning: librosa.core.audio.__audioread_load\n",
            "\tDeprecated as of librosa version 0.10.0.\n",
            "\tIt will be removed in librosa version 1.0.\n",
            "  y, sr_native = __audioread_load(path, offset, duration, dtype)\n"
          ]
        },
        {
          "output_type": "stream",
          "name": "stdout",
          "text": [
            "⚠️ Skipping file: /content/genres/genres_original/jazz/jazz.00054.wav ()\n"
          ]
        },
        {
          "output_type": "stream",
          "name": "stderr",
          "text": []
        },
        {
          "output_type": "stream",
          "name": "stdout",
          "text": [
            "Train Loss: 0.1805  Acc: 94.84%\n",
            "Val   Loss: 0.1946  Acc: 95.20%\n",
            "Saved best model.\n",
            "\n",
            "=== Epoch 25/25 ===\n"
          ]
        },
        {
          "output_type": "stream",
          "name": "stderr",
          "text": [
            "Eval batches:   8%|▊         | 1/12 [00:06<01:08,  6.20s/it]/tmp/ipython-input-237322740.py:4: UserWarning: PySoundFile failed. Trying audioread instead.\n",
            "  y, sr = librosa.load(path, sr=SR, duration=DURATION)\n",
            "/usr/local/lib/python3.12/dist-packages/librosa/core/audio.py:184: FutureWarning: librosa.core.audio.__audioread_load\n",
            "\tDeprecated as of librosa version 0.10.0.\n",
            "\tIt will be removed in librosa version 1.0.\n",
            "  y, sr_native = __audioread_load(path, offset, duration, dtype)\n"
          ]
        },
        {
          "output_type": "stream",
          "name": "stdout",
          "text": [
            "⚠️ Skipping file: /content/genres/genres_original/jazz/jazz.00054.wav ()\n"
          ]
        },
        {
          "output_type": "stream",
          "name": "stderr",
          "text": [
            "                                                             "
          ]
        },
        {
          "output_type": "stream",
          "name": "stdout",
          "text": [
            "Train Loss: 0.1341  Acc: 95.91%\n",
            "Val   Loss: 0.2283  Acc: 93.07%\n",
            "No improvement for 1 epoch(s).\n"
          ]
        },
        {
          "output_type": "stream",
          "name": "stderr",
          "text": [
            "\r"
          ]
        }
      ]
    },
    {
      "cell_type": "code",
      "source": [
        "# -------------------------\n",
        "# Accuracy check function\n",
        "# -------------------------\n",
        "def evaluate_accuracy(model, loader):\n",
        "    model.eval()\n",
        "    correct = 0\n",
        "    total = 0\n",
        "    with torch.no_grad():\n",
        "        for X_batch, y_batch in loader:\n",
        "            X_batch = X_batch.to(DEVICE)\n",
        "            y_batch = y_batch.to(DEVICE)\n",
        "            outputs = model(X_batch)\n",
        "            preds = torch.argmax(outputs, dim=1)\n",
        "            correct += (preds == y_batch).sum().item()\n",
        "            total += y_batch.size(0)\n",
        "    acc = correct / total\n",
        "    return acc\n",
        "\n",
        "# -------------------------\n",
        "# Check accuracy on validation set\n",
        "# -------------------------\n",
        "val_acc = evaluate_accuracy(model, val_loader)\n",
        "print(f\"Validation Accuracy: {val_acc*100:.2f}%\")\n",
        "\n",
        "# -------------------------\n",
        "# Check accuracy on test set\n",
        "# -------------------------\n",
        "test_acc = evaluate_accuracy(model, test_loader)\n",
        "print(f\"Test Accuracy: {test_acc*100:.2f}%\")\n"
      ],
      "metadata": {
        "colab": {
          "base_uri": "https://localhost:8080/"
        },
        "collapsed": true,
        "id": "qdwaOqKWQ6Wo",
        "outputId": "0b8f501a-dad4-47e8-b192-8617942e6441"
      },
      "execution_count": 43,
      "outputs": [
        {
          "output_type": "stream",
          "name": "stderr",
          "text": [
            "Exception ignored in: <function _MultiProcessingDataLoaderIter.__del__ at 0x7eff0bfed8a0>\n",
            "Traceback (most recent call last):\n",
            "  File \"/usr/local/lib/python3.12/dist-packages/torch/utils/data/dataloader.py\", line 1664, in __del__\n",
            "    self._shutdown_workers()\n",
            "  File \"/usr/local/lib/python3.12/dist-packages/torch/utils/data/dataloader.py\", line 1647, in _shutdown_workers\n",
            "    if w.is_alive():\n",
            "       ^^^^^^^^^^^^\n",
            "  File \"/usr/lib/python3.12/multiprocessing/process.py\", line 160, in is_alive\n",
            "    assert self._parent_pid == os.getpid(), 'can only test a child process'\n",
            "           ^^^^^^^^^^^^^^^^^^Exception ignored in: ^<function _MultiProcessingDataLoaderIter.__del__ at 0x7eff0bfed8a0>^\n",
            "^Traceback (most recent call last):\n",
            "^  File \"/usr/local/lib/python3.12/dist-packages/torch/utils/data/dataloader.py\", line 1664, in __del__\n",
            "^    ^^self._shutdown_workers()\n",
            "^  File \"/usr/local/lib/python3.12/dist-packages/torch/utils/data/dataloader.py\", line 1647, in _shutdown_workers\n",
            "^    ^if w.is_alive():^^\n",
            " ^\n",
            " AssertionError :  can only test a child process\n",
            "   ^^^^^^^^^^^^\n",
            "  File \"/usr/lib/python3.12/multiprocessing/process.py\", line 160, in is_alive\n",
            "    assert self._parent_pid == os.getpid(), 'can only test a child process'\n",
            "           ^^^^^^^^^^^^^^^^^^^^^^^^^^^^^^^\n",
            "AssertionError: can only test a child process\n",
            "/tmp/ipython-input-237322740.py:4: UserWarning: PySoundFile failed. Trying audioread instead.\n",
            "  y, sr = librosa.load(path, sr=SR, duration=DURATION)\n",
            "/usr/local/lib/python3.12/dist-packages/librosa/core/audio.py:184: FutureWarning: librosa.core.audio.__audioread_load\n",
            "\tDeprecated as of librosa version 0.10.0.\n",
            "\tIt will be removed in librosa version 1.0.\n",
            "  y, sr_native = __audioread_load(path, offset, duration, dtype)\n"
          ]
        },
        {
          "output_type": "stream",
          "name": "stdout",
          "text": [
            "⚠️ Skipping file: /content/genres/genres_original/jazz/jazz.00054.wav ()\n",
            "Validation Accuracy: 93.07%\n"
          ]
        },
        {
          "output_type": "stream",
          "name": "stderr",
          "text": [
            "Exception ignored in: <function _MultiProcessingDataLoaderIter.__del__ at 0x7eff0bfed8a0>\n",
            "Traceback (most recent call last):\n",
            "  File \"/usr/local/lib/python3.12/dist-packages/torch/utils/data/dataloader.py\", line 1664, in __del__\n",
            "    self._shutdown_workers()\n",
            "  File \"/usr/local/lib/python3.12/dist-packages/torch/utils/data/dataloader.py\", line 1647, in _shutdown_workers\n",
            "    if w.is_alive():\n",
            "       ^^^^^^^^Exception ignored in: ^^<function _MultiProcessingDataLoaderIter.__del__ at 0x7eff0bfed8a0>^\n",
            "^Traceback (most recent call last):\n",
            "  File \"/usr/local/lib/python3.12/dist-packages/torch/utils/data/dataloader.py\", line 1664, in __del__\n",
            "    \n",
            "self._shutdown_workers()\n",
            "  File \"/usr/lib/python3.12/multiprocessing/process.py\", line 160, in is_alive\n",
            "    assert self._parent_pid == os.getpid(), 'can only test a child process'  File \"/usr/local/lib/python3.12/dist-packages/torch/utils/data/dataloader.py\", line 1647, in _shutdown_workers\n",
            "\n",
            "        if w.is_alive(): \n",
            "           ^ ^ ^^^^^^^^^^^^^^^^^^^^^^^^^^^\n",
            "^^^^  File \"/usr/lib/python3.12/multiprocessing/process.py\", line 160, in is_alive\n",
            "    ^assert self._parent_pid == os.getpid(), 'can only test a child process'^\n",
            "^ ^^  ^^  ^ ^^ \n",
            "AssertionError:  can only test a child process\n",
            "   ^^^^^^^^^^^^^^^^^^^^^^^^^^^^^^^\n",
            "\n",
            "can only test a child process: AssertionError"
          ]
        },
        {
          "output_type": "stream",
          "name": "stdout",
          "text": [
            "Test Accuracy: 93.07%\n"
          ]
        }
      ]
    },
    {
      "cell_type": "code",
      "source": [
        "# Save final model weights & label encoder\n",
        "torch.save({\n",
        "    'model_state': model.state_dict(),\n",
        "    'label_encoder_classes': le.classes_,\n",
        "}, \"final_music_genre_model.pth\")\n",
        "\n",
        "print(\"Done. Models saved: \", best_model_path, \"and final_music_genre_model.pth\")"
      ],
      "metadata": {
        "id": "7dQI_VpUl1Fa",
        "colab": {
          "base_uri": "https://localhost:8080/"
        },
        "outputId": "d2ee80b1-ec3d-4524-cb3e-36f30346b9dc"
      },
      "execution_count": 44,
      "outputs": [
        {
          "output_type": "stream",
          "name": "stdout",
          "text": [
            "Done. Models saved:  best_music_genre_model.pth and final_music_genre_model.pth\n"
          ]
        }
      ]
    },
    {
      "cell_type": "code",
      "source": [
        "def predict_genre(model, file_path):\n",
        "    mfcc = load_and_extract_mfcc(file_path, augment=False).T  # (N_MFCC, MAX_FRAMES)\n",
        "    X = torch.from_numpy(mfcc).unsqueeze(0).to(DEVICE)  # add batch dim\n",
        "    model.eval()\n",
        "    with torch.no_grad():\n",
        "        output = model(X)\n",
        "        pred = torch.argmax(output, dim=1).item()\n",
        "    return le.classes_[pred]\n",
        "\n",
        "# Example\n",
        "song_path = \"/content/jazz.00001.wav\"\n",
        "print(\"Predicted genre:\", predict_genre(model, song_path))"
      ],
      "metadata": {
        "colab": {
          "base_uri": "https://localhost:8080/"
        },
        "id": "-WQ4Dv2jRl6Q",
        "outputId": "334f9403-5ae9-49fb-af00-8009b2948ea1"
      },
      "execution_count": 48,
      "outputs": [
        {
          "output_type": "stream",
          "name": "stdout",
          "text": [
            "Predicted genre: jazz\n"
          ]
        }
      ]
    },
    {
      "cell_type": "code",
      "source": [
        "def predict_genre(model, file_path):\n",
        "    mfcc = load_and_extract_mfcc(file_path, augment=False).T  # (N_MFCC, MAX_FRAMES)\n",
        "    X = torch.from_numpy(mfcc).unsqueeze(0).to(DEVICE)  # add batch dim\n",
        "    model.eval()\n",
        "    with torch.no_grad():\n",
        "        output = model(X)\n",
        "        pred = torch.argmax(output, dim=1).item()\n",
        "    return le.classes_[pred]\n",
        "\n",
        "# Example\n",
        "song_path = \"/content/pop.00003.wav\"\n",
        "print(\"Predicted genre:\", predict_genre(model, song_path))"
      ],
      "metadata": {
        "colab": {
          "base_uri": "https://localhost:8080/"
        },
        "id": "G90_cus6Sdhn",
        "outputId": "88299457-027f-4c65-96d2-908851021e76"
      },
      "execution_count": 49,
      "outputs": [
        {
          "output_type": "stream",
          "name": "stdout",
          "text": [
            "Predicted genre: pop\n"
          ]
        }
      ]
    }
  ]
}